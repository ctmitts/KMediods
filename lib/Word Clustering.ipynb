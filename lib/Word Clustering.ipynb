{
 "cells": [
  {
   "cell_type": "code",
   "execution_count": 1,
   "metadata": {
    "collapsed": true
   },
   "outputs": [],
   "source": [
    "import ingest as ing\n",
    "import cl as cl\n",
    "import os\n",
    "import ingest as ing\n",
    "import re"
   ]
  },
  {
   "cell_type": "code",
   "execution_count": 2,
   "metadata": {},
   "outputs": [
    {
     "name": "stdout",
     "output_type": "stream",
     "text": [
      "business.txt      politics.txt      tech.txt\r\n",
      "entertainment.txt sportAll.txt\r\n"
     ]
    }
   ],
   "source": [
    "!ls ../Documents"
   ]
  },
  {
   "cell_type": "code",
   "execution_count": 19,
   "metadata": {},
   "outputs": [
    {
     "name": "stdout",
     "output_type": "stream",
     "text": [
      "Total number of observations: 8002 sentences\n",
      "Average length of sentence: 124 characters\n"
     ]
    }
   ],
   "source": [
    "nfile = input(\"\\tFile name: \")\n",
    "path = \"../Documents/\" + nfile\n",
    "\n",
    "[sentences, N] = ing.parseSent(path)"
   ]
  },
  {
   "cell_type": "code",
   "execution_count": 20,
   "metadata": {},
   "outputs": [
    {
     "name": "stdout",
     "output_type": "stream",
     "text": [
      "Sparsity control (Integer): 3\n",
      "Building dictionary: 25 percent completed\n",
      "Building dictionary: 50 percent completed\n",
      "Building dictionary: 75 percent completed\n",
      "Building dictionary: 100 percent completed\n",
      "Finished calculating distances\n"
     ]
    }
   ],
   "source": [
    "sparsity = input(\"Sparsity control (Integer): \")\n",
    "\n",
    "counts = ing.observe(sentences,sparsity)\n",
    "\n",
    "distances = ing.calcDist(counts,N, 0)"
   ]
  },
  {
   "cell_type": "code",
   "execution_count": 22,
   "metadata": {},
   "outputs": [
    {
     "name": "stdout",
     "output_type": "stream",
     "text": [
      "Number of clusters (k): 10\n",
      "Found object 1: company\n",
      "Found object 2: market\n",
      "Found object 3: firm\n",
      "Found object 4: economy\n",
      "Found object 5: government\n",
      "Found object 6: bank\n",
      "Found object 7: told\n",
      "Found object 8: president\n",
      "Found object 9: month\n",
      "Found object 10: chief\n",
      "Representative Objects: ['company', 'market', 'firm', 'economy', 'government', 'bank', 'told', 'president', 'month', 'chief']\n",
      "Average dissimilarity among all clusters 0.907835658938\n",
      "Average dissimilarity in each cluster [('company', 1.7706314181499008), ('market', 0.8521517148551288), ('firm', 0.8619666122656647), ('economy', 0.8201137033766119), ('government', 0.8306729210862123), ('bank', 0.8329247395152211), ('told', 0.7496811024507432), ('president', 0.76160233837164), ('month', 0.8173253023641949), ('chief', 0.7812867369456068)]:\n"
     ]
    }
   ],
   "source": [
    "k  = input(\"Number of clusters (k): \")\n",
    "iResults = cl.selObjs(distances,k)\n"
   ]
  },
  {
   "cell_type": "code",
   "execution_count": 23,
   "metadata": {},
   "outputs": [
    {
     "name": "stdout",
     "output_type": "stream",
     "text": [
      "Representative object government was swapped out for country\n",
      "Number 1 swap completed\n",
      "No Swap\n",
      "Average dissimilarity among all clusters 0.904129090307\n"
     ]
    },
    {
     "ename": "KeyError",
     "evalue": "'country'",
     "output_type": "error",
     "traceback": [
      "\u001b[0;31m---------------------------------------------------------------------------\u001b[0m",
      "\u001b[0;31mKeyError\u001b[0m                                  Traceback (most recent call last)",
      "\u001b[0;32m<ipython-input-23-2957bc2a9a58>\u001b[0m in \u001b[0;36m<module>\u001b[0;34m()\u001b[0m\n\u001b[0;32m----> 1\u001b[0;31m \u001b[0mfResults\u001b[0m \u001b[0;34m=\u001b[0m \u001b[0mcl\u001b[0m\u001b[0;34m.\u001b[0m\u001b[0moptimize\u001b[0m\u001b[0;34m(\u001b[0m\u001b[0mdistances\u001b[0m\u001b[0;34m,\u001b[0m\u001b[0miResults\u001b[0m\u001b[0;34m)\u001b[0m\u001b[0;34m\u001b[0m\u001b[0m\n\u001b[0m",
      "\u001b[0;32m/Users/Colin/Desktop/Repos/KMediods/lib/cl.py\u001b[0m in \u001b[0;36moptimize\u001b[0;34m(distances, iResults)\u001b[0m\n\u001b[1;32m    221\u001b[0m             \u001b[0mClusters\u001b[0m \u001b[0;34m=\u001b[0m \u001b[0minfo\u001b[0m\u001b[0;34m[\u001b[0m\u001b[0;34m'Clusters'\u001b[0m\u001b[0;34m]\u001b[0m\u001b[0;34m\u001b[0m\u001b[0m\n\u001b[1;32m    222\u001b[0m             \u001b[0;32mprint\u001b[0m \u001b[0;34m\"Average dissimilarity among all clusters %s\"\u001b[0m \u001b[0;34m%\u001b[0m \u001b[0mobj\u001b[0m\u001b[0;34m\u001b[0m\u001b[0m\n\u001b[0;32m--> 223\u001b[0;31m             \u001b[0;32mprint\u001b[0m \u001b[0;34m\"Average dissimilarity in each cluster %s:\"\u001b[0m \u001b[0;34m%\u001b[0m \u001b[0;34m[\u001b[0m\u001b[0;34m(\u001b[0m\u001b[0mrepObj\u001b[0m\u001b[0;34m[\u001b[0m\u001b[0mi\u001b[0m\u001b[0;34m]\u001b[0m\u001b[0;34m,\u001b[0m \u001b[0mclAvgs\u001b[0m\u001b[0;34m[\u001b[0m\u001b[0mrepObj\u001b[0m\u001b[0;34m[\u001b[0m\u001b[0mi\u001b[0m\u001b[0;34m]\u001b[0m\u001b[0;34m]\u001b[0m\u001b[0;34m)\u001b[0m \u001b[0;32mfor\u001b[0m \u001b[0mi\u001b[0m \u001b[0;32min\u001b[0m \u001b[0mrange\u001b[0m\u001b[0;34m(\u001b[0m\u001b[0mlen\u001b[0m\u001b[0;34m(\u001b[0m\u001b[0mrepObj\u001b[0m\u001b[0;34m)\u001b[0m\u001b[0;34m)\u001b[0m\u001b[0;34m]\u001b[0m\u001b[0;34m\u001b[0m\u001b[0m\n\u001b[0m\u001b[1;32m    224\u001b[0m         \u001b[0mcounter\u001b[0m \u001b[0;34m=\u001b[0m \u001b[0mcounter\u001b[0m \u001b[0;34m+\u001b[0m \u001b[0;36m1\u001b[0m\u001b[0;34m\u001b[0m\u001b[0m\n\u001b[1;32m    225\u001b[0m         \u001b[0;32mprint\u001b[0m \u001b[0;34m\"Number %s swap completed\"\u001b[0m \u001b[0;34m%\u001b[0m \u001b[0mcounter\u001b[0m\u001b[0;34m\u001b[0m\u001b[0m\n",
      "\u001b[0;31mKeyError\u001b[0m: 'country'"
     ]
    }
   ],
   "source": [
    "fResults = cl.optimize(distances,iResults)"
   ]
  },
  {
   "cell_type": "code",
   "execution_count": 24,
   "metadata": {},
   "outputs": [
    {
     "name": "stdout",
     "output_type": "stream",
     "text": [
      "Number of clusters (k): 5\n",
      "Found object 1: company\n",
      "Found object 2: market\n",
      "Found object 3: firm\n",
      "Found object 4: economy\n",
      "Found object 5: government\n",
      "Representative Objects: ['company', 'market', 'firm', 'economy', 'government']\n",
      "Average dissimilarity among all clusters 1.04447894469\n",
      "Average dissimilarity in each cluster [('company', 1.728008375696063), ('market', 0.8866246244119687), ('firm', 0.8933265098685765), ('economy', 0.8472198886383746), ('government', 0.8672153248396584)]:\n"
     ]
    }
   ],
   "source": [
    "k  = input(\"Number of clusters (k): \")\n",
    "iResults5 = cl.selObjs(distances,k)\n"
   ]
  },
  {
   "cell_type": "code",
   "execution_count": 26,
   "metadata": {},
   "outputs": [
    {
     "name": "stdout",
     "output_type": "stream",
     "text": [
      "Optimal Clustering achieved\n",
      "Average dissimilarity among all clusters 1.04447894469\n",
      "Average dissimilarity in each cluster [('company', 1.728008375696063), ('market', 0.8866246244119687), ('firm', 0.8933265098685765), ('economy', 0.8472198886383746), ('government', 0.8672153248396584)]:\n",
      "Number 1 swap completed\n"
     ]
    }
   ],
   "source": [
    "fResults5 = cl.optimize(distances,iResults5)"
   ]
  },
  {
   "cell_type": "markdown",
   "metadata": {},
   "source": [
    "## Type"
   ]
  },
  {
   "cell_type": "code",
   "execution_count": null,
   "metadata": {
    "collapsed": true
   },
   "outputs": [],
   "source": []
  }
 ],
 "metadata": {
  "kernelspec": {
   "display_name": "Python 2",
   "language": "python",
   "name": "python2"
  },
  "language_info": {
   "codemirror_mode": {
    "name": "ipython",
    "version": 2
   },
   "file_extension": ".py",
   "mimetype": "text/x-python",
   "name": "python",
   "nbconvert_exporter": "python",
   "pygments_lexer": "ipython2",
   "version": "2.7.11"
  }
 },
 "nbformat": 4,
 "nbformat_minor": 2
}
