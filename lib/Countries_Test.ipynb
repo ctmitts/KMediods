{
 "cells": [
  {
   "cell_type": "code",
   "execution_count": 1,
   "metadata": {
    "collapsed": true
   },
   "outputs": [],
   "source": [
    "import os\n",
    "import math\n",
    "import operator\n",
    "import cl as cl\n"
   ]
  },
  {
   "cell_type": "code",
   "execution_count": 2,
   "metadata": {
    "collapsed": true
   },
   "outputs": [],
   "source": [
    "### Dissimilarity matrix\n",
    "\n",
    "names = [' ','BEL','BRA','CHI','CUB','EGY','FRA','IND','ISR','USA','USS','YUG','ZAI']\n",
    "r1 = ['BEL',0.00,5.58,7.00,7.08,4.83,2.17,6.42,3.42,2.50,6.08,5.25,4.75]\n",
    "r2 = ['BRA',5.58,0,6.50,7.00,5.08,5.75,5.00,5.50,4.92,6.67,6.83,3.00]\n",
    "r3 = ['CHI',7.00, 6.50, 0.00,3.83,8.17,6.67,5.58,6.42,6.25,4.25,4.50,6.08]\n",
    "r4 = ['CUB',7.08,7.00,3.83,0.00,5.83,6.92,6.00,6.42,7.33,2.67,3.75,6.67]\n",
    "r5 = ['EGY',4.83,5.08,8.17,5.83,0.00,4.92,4.67,5.00,4.50,6.00,5.75,5.00]\n",
    "r6 = ['FRA',2.17,5.75,6.67,6.92,4.92,0.00,6.42,3.92,2.25,6.17,5.42,5.58]\n",
    "r7 = ['IND',6.42,5.00,5.58,6.00,4.67,6.42,0.00,6.17,6.33,6.17,6.08,4.83]\n",
    "r8 = ['ISR',3.42,5.50,6.42,6.42,5.00,3.92,6.17,0.00,2.75,6.92,5.83,6.17]\n",
    "r9 = ['USA',2.50,4.92,6.25,7.33,4.50,2.25,6.33,2.75,0.00,6.17,6.67,5.67]\n",
    "r10 = ['USS',6.08,6.67,4.25,2.67,6.00,6.17,6.17,6.92,6.17,0.00,3.67,6.50]\n",
    "r11 = ['YUG',5.25,6.83,4.50,3.75,5.75,5.42,6.08,5.83,6.67,3.67,0.00,6.92]\n",
    "r12 = ['ZAI',4.75,3.00,6.08,6.67,5.00,5.58,4.83,6.17,5.67,6.50,6.92,0.00]\n",
    "\n",
    "dMat = [names,r1,r2,r3,r4,r5,r6,r7,r8,r9,r10,r11,r12]"
   ]
  },
  {
   "cell_type": "code",
   "execution_count": 3,
   "metadata": {
    "collapsed": true
   },
   "outputs": [],
   "source": [
    "def createDict(distMatrix): \n",
    "    names = distMatrix[0]\n",
    "    dist = {names[i] + \":\" + names[j]:distMatrix[i][j] for i in range(1,len(names)) for j in range(1,len(names))}\n",
    "    return dist  \n",
    "\n",
    "# key = names[i] + \":\"\n",
    "  "
   ]
  },
  {
   "cell_type": "code",
   "execution_count": 4,
   "metadata": {
    "collapsed": true
   },
   "outputs": [],
   "source": [
    "dist = createDict(dMat)\n",
    "maxD = 10;\n",
    "sortObj = ['BEL','BRA','CHI','CUB','EGY','FRA','IND','ISR','USA','USS','YUG','ZAI']\n",
    "\n",
    "distances = [dist, maxD, sortObj]"
   ]
  },
  {
   "cell_type": "code",
   "execution_count": 5,
   "metadata": {},
   "outputs": [
    {
     "name": "stdout",
     "output_type": "stream",
     "text": [
      "Number of clusters (k): 3\n",
      "Found object 1: BEL\n",
      "Found object 2: CUB\n",
      "Found object 3: ZAI\n",
      "Representative Objects: ['BEL', 'CUB', 'ZAI']\n",
      "Average dissimilarity among all clusters 2.5855\n",
      "Average dissimilarity in each cluster [('BEL', 2.584), ('CUB', 2.5625), ('ZAI', 2.61)]:\n"
     ]
    }
   ],
   "source": [
    "k  = input(\"Number of clusters (k): \")\n",
    "\n",
    "iResults = cl.selObjs(distances,k)"
   ]
  },
  {
   "cell_type": "code",
   "execution_count": 6,
   "metadata": {},
   "outputs": [
    {
     "name": "stdout",
     "output_type": "stream",
     "text": [
      "10 completed\n",
      "Representative object BEL was swapped out for USA\n",
      "Number 1 swap completed\n",
      "10 completed\n",
      "Optimal Clustering achieved\n",
      "Average dissimilarity among all clusters 2.52416666667\n",
      "Average dissimilarity in each cluster [('CUB', 2.5625), ('ZAI', 2.61), ('USA', 2.4)]:\n",
      "Number 2 swap completed\n"
     ]
    }
   ],
   "source": [
    "fResults = cl.optimize(distances,iResults)"
   ]
  },
  {
   "cell_type": "code",
   "execution_count": 7,
   "metadata": {},
   "outputs": [
    {
     "data": {
      "text/plain": [
       "{'ClusterInfo': {'ClAvgs': {'BEL': 2.584, 'CUB': 2.5625, 'ZAI': 2.61},\n",
       "  'Clusters': {'BEL': ['BEL', 'EGY', 'FRA', 'ISR', 'USA'],\n",
       "   'CUB': ['CUB', 'CHI', 'USS', 'YUG'],\n",
       "   'ZAI': ['ZAI', 'BRA', 'IND']},\n",
       "  'Objective': 2.5854999999999997},\n",
       " 'Mediods': ['CUB', 'ZAI', 'USA']}"
      ]
     },
     "execution_count": 7,
     "metadata": {},
     "output_type": "execute_result"
    }
   ],
   "source": [
    "iResults"
   ]
  },
  {
   "cell_type": "code",
   "execution_count": 8,
   "metadata": {},
   "outputs": [
    {
     "data": {
      "text/plain": [
       "{'ClusterAverages': {'CUB': 2.5625, 'USA': 2.4, 'ZAI': 2.61},\n",
       " 'Clusters': {'CUB': ['CUB', 'CHI', 'USS', 'YUG'],\n",
       "  'USA': ['USA', 'BEL', 'EGY', 'FRA', 'ISR'],\n",
       "  'ZAI': ['ZAI', 'BRA', 'IND']},\n",
       " 'Mediods': ['CUB', 'ZAI', 'USA'],\n",
       " 'Objective': 2.5241666666666664}"
      ]
     },
     "execution_count": 8,
     "metadata": {},
     "output_type": "execute_result"
    }
   ],
   "source": [
    "fResults"
   ]
  },
  {
   "cell_type": "code",
   "execution_count": null,
   "metadata": {
    "collapsed": true
   },
   "outputs": [],
   "source": []
  },
  {
   "cell_type": "code",
   "execution_count": null,
   "metadata": {
    "collapsed": true
   },
   "outputs": [],
   "source": []
  },
  {
   "cell_type": "code",
   "execution_count": null,
   "metadata": {
    "collapsed": true
   },
   "outputs": [],
   "source": []
  },
  {
   "cell_type": "code",
   "execution_count": null,
   "metadata": {
    "collapsed": true
   },
   "outputs": [],
   "source": []
  },
  {
   "cell_type": "code",
   "execution_count": null,
   "metadata": {
    "collapsed": true
   },
   "outputs": [],
   "source": []
  }
 ],
 "metadata": {
  "kernelspec": {
   "display_name": "Python 2",
   "language": "python",
   "name": "python2"
  },
  "language_info": {
   "codemirror_mode": {
    "name": "ipython",
    "version": 2
   },
   "file_extension": ".py",
   "mimetype": "text/x-python",
   "name": "python",
   "nbconvert_exporter": "python",
   "pygments_lexer": "ipython2",
   "version": "2.7.11"
  }
 },
 "nbformat": 4,
 "nbformat_minor": 2
}
