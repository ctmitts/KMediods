{
 "cells": [
  {
   "cell_type": "code",
   "execution_count": 1,
   "metadata": {
    "collapsed": true
   },
   "outputs": [],
   "source": [
    "import ingest as ing\n",
    "import cl as cl\n",
    "import os\n",
    "import ingest as ing\n",
    "import re"
   ]
  },
  {
   "cell_type": "code",
   "execution_count": 2,
   "metadata": {},
   "outputs": [
    {
     "name": "stdout",
     "output_type": "stream",
     "text": [
      "business.txt      politics.txt      tech.txt\r\n",
      "entertainment.txt sportAll.txt\r\n"
     ]
    }
   ],
   "source": [
    "!ls ../Documents"
   ]
  },
  {
   "cell_type": "code",
   "execution_count": 19,
   "metadata": {},
   "outputs": [
    {
     "name": "stdout",
     "output_type": "stream",
     "text": [
      "Total number of observations: 8002 sentences\n",
      "Average length of sentence: 124 characters\n"
     ]
    }
   ],
   "source": [
    "nfile = input(\"\\tFile name: \")\n",
    "path = \"../Documents/\" + nfile\n",
    "\n",
    "[sentences, N] = ing.parseSent(path)"
   ]
  },
  {
   "cell_type": "code",
   "execution_count": 20,
   "metadata": {},
   "outputs": [
    {
     "name": "stdout",
     "output_type": "stream",
     "text": [
      "Sparsity control (Integer): 3\n",
      "Building dictionary: 25 percent completed\n",
      "Building dictionary: 50 percent completed\n",
      "Building dictionary: 75 percent completed\n",
      "Building dictionary: 100 percent completed\n",
      "Finished calculating distances\n"
     ]
    }
   ],
   "source": [
    "sparsity = input(\"Sparsity control (Integer): \")\n",
    "\n",
    "counts = ing.observe(sentences,sparsity)\n",
    "\n",
    "distances = ing.calcDist(counts,N, 0)"
   ]
  },
  {
   "cell_type": "code",
   "execution_count": 22,
   "metadata": {},
   "outputs": [
    {
     "name": "stdout",
     "output_type": "stream",
     "text": [
      "Number of clusters (k): 10\n",
      "Found object 1: company\n",
      "Found object 2: market\n",
      "Found object 3: firm\n",
      "Found object 4: economy\n",
      "Found object 5: government\n",
      "Found object 6: bank\n",
      "Found object 7: told\n",
      "Found object 8: president\n",
      "Found object 9: month\n",
      "Found object 10: chief\n",
      "Representative Objects: ['company', 'market', 'firm', 'economy', 'government', 'bank', 'told', 'president', 'month', 'chief']\n",
      "Average dissimilarity among all clusters 0.907835658938\n",
      "Average dissimilarity in each cluster [('company', 1.7706314181499008), ('market', 0.8521517148551288), ('firm', 0.8619666122656647), ('economy', 0.8201137033766119), ('government', 0.8306729210862123), ('bank', 0.8329247395152211), ('told', 0.7496811024507432), ('president', 0.76160233837164), ('month', 0.8173253023641949), ('chief', 0.7812867369456068)]:\n"
     ]
    }
   ],
   "source": [
    "k  = input(\"Number of clusters (k): \")\n",
    "iResults = cl.selObjs(distances,k)\n"
   ]
  },
  {
   "cell_type": "code",
   "execution_count": null,
   "metadata": {
    "collapsed": true
   },
   "outputs": [],
   "source": []
  },
  {
   "cell_type": "code",
   "execution_count": null,
   "metadata": {
    "collapsed": true
   },
   "outputs": [],
   "source": [
    "fResults = cl.optimize(distances,iResults)"
   ]
  },
  {
   "cell_type": "code",
   "execution_count": null,
   "metadata": {
    "collapsed": true
   },
   "outputs": [],
   "source": []
  },
  {
   "cell_type": "code",
   "execution_count": null,
   "metadata": {
    "collapsed": true
   },
   "outputs": [],
   "source": [
    "if not os.path.exists(path):\n",
    "    os.makedirs(path)\n",
    "    os.chdir(path)\n",
    "else:\n",
    "    os.chdir(path)\n",
    "\n",
    "countFile = 'counts_' + sub + '.pkl'\n",
    "countOpen = open(countFile, 'wb')\n",
    "pickle.dump(counts, countOpen)\n",
    "countOpen.close()\n",
    "\n",
    "distFile = 'dist_' + sub + '.pkl'\n",
    "distOpen = open(distFile, 'wb')\n",
    "pickle.dump(distances, distOpen)\n",
    "distOpen.close()"
   ]
  },
  {
   "cell_type": "code",
   "execution_count": null,
   "metadata": {
    "collapsed": true
   },
   "outputs": [],
   "source": []
  },
  {
   "cell_type": "code",
   "execution_count": null,
   "metadata": {
    "collapsed": true
   },
   "outputs": [],
   "source": []
  }
 ],
 "metadata": {
  "kernelspec": {
   "display_name": "Python 2",
   "language": "python",
   "name": "python2"
  },
  "language_info": {
   "codemirror_mode": {
    "name": "ipython",
    "version": 2
   },
   "file_extension": ".py",
   "mimetype": "text/x-python",
   "name": "python",
   "nbconvert_exporter": "python",
   "pygments_lexer": "ipython2",
   "version": "2.7.11"
  }
 },
 "nbformat": 4,
 "nbformat_minor": 2
}
