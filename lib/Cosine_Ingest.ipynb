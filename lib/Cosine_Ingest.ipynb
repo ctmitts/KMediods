{
 "cells": [
  {
   "cell_type": "code",
   "execution_count": 2,
   "metadata": {
    "collapsed": true
   },
   "outputs": [],
   "source": [
    "import os\n"
   ]
  },
  {
   "cell_type": "code",
   "execution_count": 3,
   "metadata": {},
   "outputs": [
    {
     "data": {
      "text/plain": [
       "'/Users/Colin/Desktop/Text Clustering'"
      ]
     },
     "execution_count": 3,
     "metadata": {},
     "output_type": "execute_result"
    }
   ],
   "source": [
    "os.getcwd()"
   ]
  },
  {
   "cell_type": "code",
   "execution_count": null,
   "metadata": {
    "collapsed": true
   },
   "outputs": [],
   "source": [
    "def ingArticles():\n",
    "        stopOpen = open(\"stopWords.txt\",'r')\n",
    "        stopFile = stopOpen.read()\n",
    "        stop = stopFile.split(\",\")\n",
    "        path = input(\"\\tSet Working Directory: \")\n",
    "        os.chdir(path)\n",
    "        subDirs = [dir[0] for dir in os.walk('./') if dir[0] != './']\n",
    "        Articles = {}\n",
    "        for dir in subDirs:\n",
    "                os.chdir(dir)\n",
    "                sub = dir.split('./')[1]\n",
    "                articles = [ar for ar in os.listdir('./') if '.txt' in ar]\n",
    "                #arName = [sub + '_' + ar.replace('.txt','') for ar in articles]\n",
    "                for ar in articles:\n",
    "                        arName = sub + '_' + ar.replace('.txt', '')\n",
    "                        arOpen = open(ar,'r')\n",
    "                        contents = arOpen.read()\n",
    "                        contents = contents.replace('\\'', '')\n",
    "                        contents = contents.replace('\\\"', '')\n",
    "                        text = re.sub(\"\\d+\\.\\d+\",\"\",contents) ## remove decimal #.#\n",
    "                        text = re.sub(\"\\d+\",\"\",text)\n",
    "                        text = re.sub('\\.\\.\\.', '',text) ### remove ...\n",
    "                        text = re.sub('\\...\\.' , '.',text)  ## initial at beginning of sentence\n",
    "                        text = re.sub('[-+=<>*/]',' ',text)\n",
    "                        text = re.sub('[:;,@#$%^&~`]', '', text)\n",
    "                        text = text.decode('unicode_escape').encode('ascii','ignore')\n",
    "                        text = re.sub('[!?.]', ' ', text) ## replace \"(!?)\" with \".\"\n",
    "                        lines = text.split('\\n')\n",
    "                        title = lines[0]; del lines[0]\n",
    "                        lines = [line for line in lines if not line in [' ', '']]\n",
    "                        text = ''.join( [ l1 for l1 in lines])\n",
    "                        words = re.findall(r\"[\\w']+\", text)\n",
    "                        words = [ing.processWord(wrd.lower()) for wrd in words if not ing.processWord(wrd.lower()) in stop]\n",
    "                        words = [wrd for wrd in words if not wrd in [' ', '']]\n",
    "                        tWords = re.findall(r\"[\\w']+\", title)\n",
    "                        tWords = [ing.processWord(wrd.lower()) for wrd in tWords if not ing.processWord(wrd.lower()) in stop]\n",
    "                        mars = {}; joints = {}\n",
    "                        for wrd in tWords:\n",
    "                                #wrd = ing.processWord(wrd)\n",
    "                                if wrd in mars:\n",
    "                                        mars[wrd] = mars[wrd] + 2.0\n",
    "                                if not wrd in mars:\n",
    "                                        mars[wrd] = 2.0\n",
    "                        for i in range(len(tWords)-1):\n",
    "                                wrd1 = tWords[i]; wrd2 = tWords[i+1]\n",
    "                                pair = wrd1 + \" \" + wrd2\n",
    "                                if pair in joints:\n",
    "                                        joints[pair] = joints[pair] + 2.0\n",
    "                                if not pair in joints:\n",
    "                                        joints[pair] = 2.0\n",
    "                        for wrd in words:\n",
    "                                #wrd = ing.processWord(wrd)\n",
    "                                if wrd in mars:\n",
    "                                        mars[wrd] = mars[wrd] + 1.0\n",
    "                                if not wrd in mars:\n",
    "                                        mars[wrd] = 1.0\n",
    "                        for i in range(len(words)-1):\n",
    "                                wrd1 = words[i]; wrd2 = words[i+1]\n",
    "                                pair = wrd1 + \" \" + wrd2\n",
    "                                if pair in joints:\n",
    "                                        joints[pair] = joints[pair] + 1.0\n",
    "                                if not pair in joints:\n",
    "                                        joints[pair] = 1.0\n",
    "                        Articles[arName] = {'title':title, 'words':mars, 'pairs':joints}\n",
    "                os.chdir('../')\n",
    "        return Articles\n"
   ]
  }
 ],
 "metadata": {
  "kernelspec": {
   "display_name": "Python 2",
   "language": "python",
   "name": "python2"
  },
  "language_info": {
   "codemirror_mode": {
    "name": "ipython",
    "version": 2
   },
   "file_extension": ".py",
   "mimetype": "text/x-python",
   "name": "python",
   "nbconvert_exporter": "python",
   "pygments_lexer": "ipython2",
   "version": "2.7.11"
  }
 },
 "nbformat": 4,
 "nbformat_minor": 2
}
