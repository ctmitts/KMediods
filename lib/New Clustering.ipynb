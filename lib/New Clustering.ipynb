{
 "cells": [
  {
   "cell_type": "code",
   "execution_count": null,
   "metadata": {
    "collapsed": true
   },
   "outputs": [],
   "source": [
    "Step 1: (Select initial medoids)\n",
    "1-1. Calculate the distance between every pair of\n",
    "all objects based on the chosen dissimilarity\n",
    "measure (Euclidean distance in our case).\n",
    "1-2. Calculate vj for object j as follows:\n",
    "vj ¼\n",
    "Xn\n",
    "i¼1\n",
    "dij\n",
    "Pn\n",
    "l¼1\n",
    "dil\n",
    "; j ¼ 1; :::; n ð2Þ\n",
    "1-3. Sort vj’s in ascending order. Select k objects\n",
    "having the first k smallest values as initial\n",
    "medoids.\n",
    "1-4. Obtain the initial cluster result by assigning\n",
    "each object to the nearest medoid.\n",
    "1-5. Calculate the sum of distances from all objects\n",
    "to their medoids.\n",
    "Step 2: (Update medoids)\n",
    "Find a new medoid of each cluster, which is the\n",
    "object minimizing the total distance to other\n",
    "objects in its cluster. Update the current medoid\n",
    "in each cluster by replacing with the new medoid.\n",
    "Step 3: (Assign objects to medoids)\n",
    "3-1. Assign each object to the nearest medoid and\n",
    "obtain the cluster result.\n",
    "3-2. Calculate the sum of distance from all objects to\n",
    "their medoids. If the sum is equal to the previous\n",
    "one, then stop the algorithm. Otherwise, go back\n",
    "to the Step 2."
   ]
  }
 ],
 "metadata": {
  "kernelspec": {
   "display_name": "Python 2",
   "language": "python",
   "name": "python2"
  },
  "language_info": {
   "codemirror_mode": {
    "name": "ipython",
    "version": 2
   },
   "file_extension": ".py",
   "mimetype": "text/x-python",
   "name": "python",
   "nbconvert_exporter": "python",
   "pygments_lexer": "ipython2",
   "version": "2.7.11"
  }
 },
 "nbformat": 4,
 "nbformat_minor": 0
}
