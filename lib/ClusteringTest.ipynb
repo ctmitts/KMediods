{
 "cells": [
  {
   "cell_type": "code",
   "execution_count": 8,
   "metadata": {},
   "outputs": [],
   "source": [
    "import os\n",
    "import math\n",
    "import operator\n"
   ]
  },
  {
   "cell_type": "code",
   "execution_count": 11,
   "metadata": {
    "collapsed": true
   },
   "outputs": [],
   "source": [
    "!cd lib\n",
    "\n",
    "import cl as cl"
   ]
  },
  {
   "cell_type": "code",
   "execution_count": 10,
   "metadata": {},
   "outputs": [
    {
     "name": "stdout",
     "output_type": "stream",
     "text": [
      "/Users/Colin/Desktop/Repos/KMediods\r\n"
     ]
    }
   ],
   "source": [
    "!pwd"
   ]
  },
  {
   "cell_type": "code",
   "execution_count": 2,
   "metadata": {
    "collapsed": true
   },
   "outputs": [],
   "source": [
    "### Dissimilarity matrix\n",
    "\n",
    "names = [' ','BEL','BRA','CHI','CUB','EGY','FRA','IND','ISR','USA','USS','YUG','ZAI']\n",
    "r1 = ['BEL',0.00,5.58,7.00,7.08,4.83,2.17,6.42,3.42,2.50,6.08,5.25,4.75]\n",
    "r2 = ['BRA',5.58,0,6.50,7.00,5.08,5.75,5.00,5.50,4.92,6.67,6.83,3.00]\n",
    "r3 = ['CHI',7.00, 6.50, 0.00,3.83,8.17,6.67,5.58,6.42,6.25,4.25,4.50,6.08]\n",
    "r4 = ['CUB',7.08,7.00,3.83,0.00,5.83,6.92,6.00,6.42,7.33,2.67,3.75,6.67]\n",
    "r5 = ['EGY',4.83,5.08,8.17,5.83,0.00,4.92,4.67,5.00,4.50,6.00,5.75,5.00]\n",
    "r6 = ['FRA',2.17,5.75,6.67,6.92,4.92,0.00,6.42,3.92,2.25,6.17,5.42,5.58]\n",
    "r7 = ['IND',6.42,5.00,5.58,6.00,4.67,6.42,0.00,6.17,6.33,6.17,6.08,4.83]\n",
    "r8 = ['ISR',3.42,5.50,6.42,6.42,5.00,3.92,6.17,0.00,2.75,6.92,5.83,6.17]\n",
    "r9 = ['USA',2.50,4.92,6.25,7.33,4.50,2.25,6.33,2.75,0.00,6.17,6.67,5.67]\n",
    "r10 = ['USS',6.08,6.67,4.25,2.67,6.00,6.17,6.17,6.92,6.17,0.00,3.67,6.50]\n",
    "r11 = ['YUG',5.25,6.83,4.50,3.75,5.75,5.42,6.08,5.83,6.67,3.67,0.00,6.92]\n",
    "r12 = ['ZAI',4.75,3.00,6.08,6.67,5.00,5.58,4.83,6.17,5.67,6.50,6.92,0.00]\n",
    "\n",
    "dMat = [names,r1,r2,r3,r4,r5,r6,r7,r8,r9,r10,r11,r12]"
   ]
  },
  {
   "cell_type": "code",
   "execution_count": 3,
   "metadata": {
    "collapsed": true
   },
   "outputs": [],
   "source": [
    "def createDict(distMatrix): \n",
    "    names = distMatrix[0]\n",
    "    dist = {names[i] + \":\" + names[j]:distMatrix[i][j] for i in range(1,len(names)) for j in range(1,len(names))}\n",
    "    return dist  \n",
    "\n",
    "# key = names[i] + \":\"\n",
    "  "
   ]
  },
  {
   "cell_type": "code",
   "execution_count": 4,
   "metadata": {},
   "outputs": [
    {
     "data": {
      "text/plain": [
       "144"
      ]
     },
     "execution_count": 4,
     "metadata": {},
     "output_type": "execute_result"
    }
   ],
   "source": [
    "dist = createDict(dMat)\n",
    "len(dist)"
   ]
  },
  {
   "cell_type": "code",
   "execution_count": null,
   "metadata": {
    "collapsed": true
   },
   "outputs": [],
   "source": []
  },
  {
   "cell_type": "code",
   "execution_count": 12,
   "metadata": {},
   "outputs": [
    {
     "name": "stdout",
     "output_type": "stream",
     "text": [
      "Number of clusters (k): 3\n"
     ]
    },
    {
     "ename": "KeyError",
     "evalue": "0",
     "output_type": "error",
     "traceback": [
      "\u001b[0;31m---------------------------------------------------------------------------\u001b[0m",
      "\u001b[0;31mKeyError\u001b[0m                                  Traceback (most recent call last)",
      "\u001b[0;32m<ipython-input-12-86c531c55526>\u001b[0m in \u001b[0;36m<module>\u001b[0;34m()\u001b[0m\n\u001b[1;32m      1\u001b[0m \u001b[0mk\u001b[0m  \u001b[0;34m=\u001b[0m \u001b[0minput\u001b[0m\u001b[0;34m(\u001b[0m\u001b[0;34m\"Number of clusters (k): \"\u001b[0m\u001b[0;34m)\u001b[0m\u001b[0;34m\u001b[0m\u001b[0m\n\u001b[1;32m      2\u001b[0m \u001b[0;34m\u001b[0m\u001b[0m\n\u001b[0;32m----> 3\u001b[0;31m \u001b[0miResults\u001b[0m \u001b[0;34m=\u001b[0m \u001b[0mcl\u001b[0m\u001b[0;34m.\u001b[0m\u001b[0mselObjs\u001b[0m\u001b[0;34m(\u001b[0m\u001b[0mdist\u001b[0m\u001b[0;34m,\u001b[0m\u001b[0mk\u001b[0m\u001b[0;34m)\u001b[0m\u001b[0;34m\u001b[0m\u001b[0m\n\u001b[0m",
      "\u001b[0;32m/Users/Colin/Desktop/Repos/KMediods/cl.pyc\u001b[0m in \u001b[0;36mselObjs\u001b[0;34m(distances, k)\u001b[0m\n",
      "\u001b[0;31mKeyError\u001b[0m: 0"
     ]
    }
   ],
   "source": [
    "k  = input(\"Number of clusters (k): \")\n",
    "\n",
    "iResults = cl.selObjs(dist,k)"
   ]
  },
  {
   "cell_type": "code",
   "execution_count": null,
   "metadata": {
    "collapsed": true
   },
   "outputs": [],
   "source": []
  },
  {
   "cell_type": "code",
   "execution_count": null,
   "metadata": {
    "collapsed": true
   },
   "outputs": [],
   "source": []
  },
  {
   "cell_type": "code",
   "execution_count": null,
   "metadata": {
    "collapsed": true
   },
   "outputs": [],
   "source": [
    "## Select object from dictionary of dictionaries\n",
    "    ## Enter 0 for min and 1 for max\n",
    "def select(d2dict, mM): \n",
    "    inverse = [(value, key) for key, value in d2dict.items()]\n",
    "    if (mM == 0):\n",
    "        selected = min(inverse)[1]  ## representative object ~ mediod\n",
    "    if (mM == 1):\n",
    "        selected = max(inverse)[1]   ## representative object\n",
    "    if ( (mM != 0) and (mM != 1) ):\n",
    "        selected = 'NA'\n",
    "    return selected\n",
    "        \n",
    "        "
   ]
  },
  {
   "cell_type": "code",
   "execution_count": null,
   "metadata": {
    "collapsed": true
   },
   "outputs": [],
   "source": [
    "def splitWords(pair):\n",
    "        words = pair.split(\":\")\n",
    "        wrd1 =  words[0]; wrd2 = words[1]\n",
    "        return wrd1, wrd2\n",
    "\n"
   ]
  },
  {
   "cell_type": "code",
   "execution_count": null,
   "metadata": {
    "collapsed": true
   },
   "outputs": [],
   "source": [
    "def retValue(relPair,dist,maxD):\n",
    "        [word1, word2] = splitWords(relPair)\n",
    "        if (word1 == word2):\n",
    "            value = 0\n",
    "        else:\n",
    "            inverse = word2 + \":\" + word1\n",
    "            if (relPair in dist):\n",
    "                value = dist[relPair]\n",
    "            if (inverse in dist):\n",
    "                value = dist[inverse]\n",
    "            if (not relPair in dist) and (not inverse in dist):\n",
    "                value = maxD\n",
    "        return value\n"
   ]
  },
  {
   "cell_type": "code",
   "execution_count": null,
   "metadata": {
    "collapsed": true
   },
   "outputs": [],
   "source": [
    "def fastPick(distances):\n",
    "        #dist = distances[0]\n",
    "        #maxD = distances[1]\n",
    "        #sortObj = distances[2]\n",
    "        #n = len(sortObj); nD = n/10\n",
    "        \n",
    "        maxD = 10;\n",
    "        names = ['BEL','BRA','CHI','CUB','EGY','FRA','IND','ISR','USA','USS','YUG','ZAI']\n",
    "        sortObj = sorted(names); n = len(sortObj); nQ = n/4\n",
    "        repObj = [];\n",
    "        #if k > n:\n",
    "                #print \"Selection k is too large. There are n = %s objects and k < n.\" % n\n",
    "\n",
    "        iDenoms = {}\n",
    "\n",
    "        for iObj in sortObj:\n",
    "                key = iObj + \":\"\n",
    "                iDenoms[iObj] = sum( [ retValue(key + obj2, dist,maxD) for obj2 in sortObj])\n",
    "\n",
    "        vJays = {}\n",
    "        counter = 0; progress = 0\n",
    "        for jObj in sortObj:\n",
    "                vj = 0\n",
    "                if (counter % nQ == 0):\n",
    "                        progress = progress + 10\n",
    "                        print \"Still Looking: %s percent completed\" % progress\n",
    "                for iObj in sortObj:\n",
    "                        pair = iObj + \":\" + jObj\n",
    "                        iStore = retValue(pair, dist,maxD) / iDenoms[iObj]\n",
    "                        vj = vj + iStore\n",
    "                vJays[jObj] = vj\n",
    "                counter = counter + 1\n",
    "\n",
    "        k = input(\"\\tHow many objects would you like to select? \")\n",
    "        #print \"If you'd like to build multiple clusters, enter t(rue) or f(alse).\"\n",
    "        #TF = input(\"t/f: \")\n",
    "        #if TF == 't':\n",
    "        #       kVec = []; kVec.append(\n",
    "        repObj = sorted(vJays.items(), key = operator.itemgetter(1))[0:k]\n",
    "        for i in range(k):\n",
    "                repObj[i] = repObj[i][0]\n",
    "\n",
    "        return {'Mediods':repObj, 'AllComputed':vJays}\n"
   ]
  },
  {
   "cell_type": "code",
   "execution_count": null,
   "metadata": {},
   "outputs": [],
   "source": [
    "results = fastPick(dist)"
   ]
  },
  {
   "cell_type": "code",
   "execution_count": null,
   "metadata": {},
   "outputs": [],
   "source": [
    "print results['Mediods']\n",
    "repObj = results['Mediods']\n",
    "vJays = results['AllComputed']\n",
    "sorted(vJays.items(), key = operator.itemgetter(1))"
   ]
  },
  {
   "cell_type": "code",
   "execution_count": null,
   "metadata": {
    "collapsed": true
   },
   "outputs": [],
   "source": [
    "def newCluster(distances,repObj):\n",
    "        #dist = distances[0];\n",
    "        #sortObj = distances[2]\n",
    "        clusters = {}\n",
    "        maxD = 10;\n",
    "        names = ['BEL','BRA','CHI','CUB','EGY','FRA','IND','ISR','USA','USS','YUG','ZAI']\n",
    "        sortObj = sorted(names); n = len(sortObj); nQ = n/4\n",
    "        ## Initialize clusters to include the representative objects, mediods of each cluster\n",
    "        for rObj in repObj:\n",
    "                clusters[rObj] = []; clusters[rObj].append(rObj)\n",
    "        ## Assign the remaining objects to the cluster with the most similar representative object\n",
    "        for obj in sortObj:\n",
    "                if not obj in repObj:\n",
    "                        nearest = min([[rObj,retValue(obj + \":\" + rObj, dist,maxD)] for rObj in repObj],key = lambda k:k[1])[0]\n",
    "                        clusters[nearest].append(obj)\n",
    "        Tds = {} ## sum of distances from each object in a particular cluster, to that cluster's representative object\n",
    "        for rObj, clObjs in clusters.iteritems():\n",
    "                key = rObj + \":\"\n",
    "                Tds[rObj] = sum([retValue(key + obj, dist, maxD) for obj in clObjs])\n",
    "        return {'Clusters':clusters,'SumofDs':Tds}\n"
   ]
  },
  {
   "cell_type": "code",
   "execution_count": null,
   "metadata": {
    "collapsed": true
   },
   "outputs": [],
   "source": [
    "iCls = newCluster(dist,repObj)"
   ]
  },
  {
   "cell_type": "code",
   "execution_count": null,
   "metadata": {
    "collapsed": true
   },
   "outputs": [],
   "source": [
    "iClusters = iCls['Clusters']\n",
    "Tds = iCls['SumofDs']"
   ]
  },
  {
   "cell_type": "code",
   "execution_count": null,
   "metadata": {},
   "outputs": [],
   "source": [
    "print iClusters\n",
    "#print iClusters['BEL']\n",
    "print Tds\n"
   ]
  },
  {
   "cell_type": "code",
   "execution_count": null,
   "metadata": {
    "collapsed": true
   },
   "outputs": [],
   "source": [
    "#for rObj, clObjs in iClusters.iteritems():\n",
    "#rbj = Tds[rObj]\n",
    "maxD = 10\n",
    "values = {}\n",
    "rObj = 'BEL'\n",
    "clObjs = iClusters['BEL']\n",
    "for clObj in clObjs:\n",
    "    values[clObj] = sum([retValue( clObj + \":\" + Obj2, dist, maxD) for Obj2 in clObjs])\n",
    "     #               if value < obj:\n",
    "      #                  obj = value\n",
    "       #                 best = clObj\n",
    "        #                del Tds[rObj]\n",
    "         #               Tds[best] = obj\n"
   ]
  },
  {
   "cell_type": "code",
   "execution_count": null,
   "metadata": {
    "collapsed": true
   },
   "outputs": [],
   "source": [
    "nObj = sorted(values.items(),key=operator.itemgetter(1))[0][0]\n",
    "\n",
    "#iClusters[nObj] = []\n",
    "iClusters[nObj] = iClusters['BEL']\n",
    "iClusters[nObj]\n",
    "del iClusters['BEL']\n",
    "\n",
    "\n"
   ]
  },
  {
   "cell_type": "code",
   "execution_count": null,
   "metadata": {},
   "outputs": [],
   "source": [
    "iClusters[nObj]"
   ]
  },
  {
   "cell_type": "code",
   "execution_count": null,
   "metadata": {
    "collapsed": true
   },
   "outputs": [],
   "source": [
    "maxD = 10\n",
    "values = {}\n",
    "rObj = 'FRA'\n",
    "clObjs = iClusters['FRA']\n",
    "for clObj in clObjs:\n",
    "    values[clObj] = sum([retValue( clObj + \":\" + Obj2, dist, maxD) for Obj2 in clObjs])"
   ]
  },
  {
   "cell_type": "code",
   "execution_count": null,
   "metadata": {},
   "outputs": [],
   "source": [
    "values"
   ]
  },
  {
   "cell_type": "code",
   "execution_count": null,
   "metadata": {},
   "outputs": [],
   "source": [
    "sorted(values.items(), key = operator.itemgetter(1))"
   ]
  },
  {
   "cell_type": "code",
   "execution_count": null,
   "metadata": {},
   "outputs": [],
   "source": [
    "values['CUB'] == values['FRA']"
   ]
  },
  {
   "cell_type": "code",
   "execution_count": null,
   "metadata": {
    "collapsed": true
   },
   "outputs": [],
   "source": [
    "maxD = 10\n",
    "values = {}\n",
    "rObj = 'USA'\n",
    "clObjs = iClusters['USA']\n",
    "for clObj in clObjs:\n",
    "    values[clObj] = sum([retValue( clObj + \":\" + Obj2, dist, maxD) for Obj2 in clObjs])"
   ]
  },
  {
   "cell_type": "code",
   "execution_count": null,
   "metadata": {},
   "outputs": [],
   "source": [
    "values"
   ]
  },
  {
   "cell_type": "code",
   "execution_count": null,
   "metadata": {
    "collapsed": true
   },
   "outputs": [],
   "source": [
    "repObj2 = ['USA','','YUG']"
   ]
  },
  {
   "cell_type": "code",
   "execution_count": null,
   "metadata": {
    "collapsed": true
   },
   "outputs": [],
   "source": [
    "iCls2 = newCluster(dist,repObj2)"
   ]
  },
  {
   "cell_type": "code",
   "execution_count": null,
   "metadata": {
    "collapsed": true
   },
   "outputs": [],
   "source": [
    "iClusters2 = iCls2['Clusters']\n",
    "Tds2 = iCls2['SumofDs']"
   ]
  },
  {
   "cell_type": "code",
   "execution_count": null,
   "metadata": {},
   "outputs": [],
   "source": [
    "iClusters2"
   ]
  },
  {
   "cell_type": "code",
   "execution_count": null,
   "metadata": {
    "collapsed": true
   },
   "outputs": [],
   "source": [
    "def cluster(dist,repObj):\n",
    "    clusters = {}\n",
    "    maxD = 10\n",
    "    names = ['BEL','BRA','CHI','CUB','EGY','FRA','IND','ISR','USA','USS','YUG','ZAI']\n",
    "    sortObj = sorted(names);\n",
    "    for rObj in repObj:\n",
    "        clusters[rObj] = []; clusters[rObj].append(rObj)\n",
    "    for obj in sortObj:\n",
    "        if not obj in repObj:\n",
    "            nearest = min([[rObj,retValue(obj + \":\" + rObj, dist,maxD)] for rObj in repObj],key = lambda k:k[1])[0]\n",
    "            clusters[nearest].append(obj)\n",
    "    avgCds = {};\n",
    "    for rObj, objs in clusters.iteritems():\n",
    "        nObjs = len(objs)\n",
    "        avgCds[rObj] = sum([retValue(rObj + \":\" + obj,dist,maxD) for obj in objs])/nObjs\n",
    "    avgDS = sum([avgCds[rObj] for rObj in repObj])/len(repObj)\n",
    "    return {'Clusters':clusters,'Objective':avgDS,'ClAvgs':avgCds}\n",
    "        \n",
    "        \n",
    "    \n",
    "        "
   ]
  },
  {
   "cell_type": "code",
   "execution_count": null,
   "metadata": {
    "collapsed": true
   },
   "outputs": [],
   "source": [
    "def selObjs(dist,k):\n",
    "#        dist = distances[0];\n",
    "        maxD = 10;\n",
    "        names = ['BEL','BRA','CHI','CUB','EGY','FRA','IND','ISR','USA','USS','YUG','ZAI']\n",
    "        sortObj = sorted(names); n = len(sortObj); nQ = n/4\n",
    "        repObj = [];\n",
    "        r = 0\n",
    "        while r < k:\n",
    "                counter = 0; progress = 0\n",
    "                cumDs = {} ## hold contributions\n",
    "                if r == 0: ## find the first representative object\n",
    "                        for obj in sortObj:\n",
    "                            counter = counter + 1\n",
    "                            if (counter % nQ == 0):\n",
    "                                progress = progress + 25\n",
    "                                print \"Looking for object %s: %s percent completed\" % (r+1,progress)\n",
    "                            key = obj + \":\"\n",
    "                            cumDs[obj] = sum( [retValue(key + obj2,dist,maxD) for obj2 in sortObj])\n",
    "                        selection = select(cumDs,0) ## select object with minimum cummulative distance\n",
    "                        repObj.append(selection)\n",
    "                        r = 1\n",
    "                else:\n",
    "                        for obj in sortObj: ## object i\n",
    "                                counter = counter + 1\n",
    "                                if (counter % nQ == 0):\n",
    "                                        progress = progress + 25\n",
    "                                        print \"Looking for object %s: %s percent completed\" % (r+1, progress)\n",
    "                                key = obj + \":\"\n",
    "                                cumDs[obj] = sum( [max(min([retValue(rObj + \":\" + obj2, dist,maxD) for rObj in repObj]) - retValue(key + obj2,dist,maxD),0) for obj2 in sortObj])\n",
    "                                \n",
    "                        selection = select(cumDs, 1) ## select objects with maximum contribution to unselected objects\n",
    "                        repObj.append(selection)\n",
    "                        r = r + 1 # r is incremented as representative objects are found\n",
    "                print \"Found object %s: %s\" % (r, selection)\n",
    "        print \"Representative Objects: %s\" % repObj\n",
    "        clusterPack = cluster(dist,repObj); objI = clusterPack['Objective']; clAvgs = clusterPack['ClAvgs']\n",
    "        #    return {'Clusters':clusters,'Objective':avgDS,'ClAvgs':avgCds}\n",
    "        print \"Average dissimilarity among all clusters %s\" % objI\n",
    "        print \"Average dissimilarity among each cluster (%s,%s) (%s,%s) (%s,%s)\" % (repObj[0],clAvgs[repObj[0]],repObj[1],clAvgs[repObj[1]],repObj[2],clAvgs[repObj[2]])        \n",
    "        return {'Mediods':repObj,'ClusterInfo':clusterPack}"
   ]
  },
  {
   "cell_type": "code",
   "execution_count": null,
   "metadata": {
    "collapsed": true
   },
   "outputs": [],
   "source": [
    "results = selObjs(dist,3)\n",
    "repObj = results['Mediods']\n",
    "info = results['ClusterInfo']\n",
    "\n",
    "#objI = info['Objective']\n",
    "#{'Clusters':clusters,'Objective':avgDS,'ClAvgs':avgCds}\n",
    "\n",
    "#print repObj, len(repObj)"
   ]
  },
  {
   "cell_type": "code",
   "execution_count": null,
   "metadata": {
    "collapsed": true
   },
   "outputs": [],
   "source": [
    "def swap(distances, repObj): #NEW edit\n",
    "    maxD = 10;\n",
    "    names = ['BEL','BRA','CHI','CUB','EGY','FRA','IND','ISR','USA','USS','YUG','ZAI']\n",
    "    sortObj = sorted(names); \n",
    "    n = len(sortObj); k = len(repObj)\n",
    "    counter = 0; progress = 0\n",
    "    cumDs = {}\n",
    "    minR = -10\n",
    "    N = ( (n - k)**2) * k\n",
    "    nD = N / 10\n",
    "    for iObj in repObj: ## object i\n",
    "        for hObj in sortObj: ## object h\n",
    "            if not hObj in repObj:\n",
    "                #print \"Consider to swap %s for %s\" % (iObj, hObj)\n",
    "                counter = counter + 1\n",
    "                if counter % nD == 0:\n",
    "                    progress = progress + 10\n",
    "                    #print \"%s percent completed\" % progress\n",
    "                swapPair = iObj + \":\" + hObj\n",
    "                repKey = iObj + \":\"\n",
    "                swapKey = hObj + \":\"\n",
    "                Tcont = 0\n",
    "                for jObj in sortObj: ## object j\n",
    "                    if (not jObj in repObj): #and (jObj != hObj):\n",
    "                        curSwap = retValue(swapKey + jObj, dist, maxD)\n",
    "                        curR = retValue(repKey + jObj, dist, maxD)\n",
    "                        othReps = sorted([retValue(rObj + \":\" + jObj, dist, maxD) for rObj in repObj if rObj != iObj])  ## [D_j, E_j]\n",
    "                        #print \"d(j,i) = %s\" %curR\n",
    "                        #print \"d(j,h) = %s\" %curSwap\n",
    "                        #print \"other repObjs: %s\" %othReps\n",
    "                        if any( curR > othR for othR in othReps) and any( curSwap > othR for othR in othReps): ## a\n",
    "                        #   print \"a\"\n",
    "                            cont = 0\n",
    "                            #Tcont = Tcont + 0\n",
    "                        if all(curR <= othR for othR in othReps): ## b\n",
    "                            if curSwap < othReps[0]: ## b1\n",
    "                            #   print \"b1\"\n",
    "                                cont = (curSwap - curR)\n",
    "                                #Tcont = Tcont + ( curSwap - curR )\n",
    "                            #else:\n",
    "                            if curSwap >= othReps[0]: ## b2\n",
    "                            #     print \"b2\"\n",
    "                                cont = othReps[0] - curR\n",
    "                                #Tcont = Tcont + (othReps[1] - curR)\n",
    "                        if any( curR > othR for othR in othReps) and all(curSwap < othR for othR in othReps) and curSwap < curR: ## c\n",
    "                        #    print \"c\"\n",
    "                            cont = curSwap - othReps[0]\n",
    "                            #Tcont = Tcont + (curSwap - othReps[0])\n",
    "                        Tcont = Tcont + cont\n",
    "                        #print \"Swap Pair (%s,%s) contribution from object j (%s): %s\" %(iObj,hObj,jObj,cont)\n",
    "                        #print \"\\n\"\n",
    "                cumDs[swapPair] = Tcont\n",
    "    bestPair = select(cumDs,0); minR = cumDs[bestPair]\n",
    "    return {'Swap':bestPair, 'Contributions':cumDs}\n"
   ]
  },
  {
   "cell_type": "code",
   "execution_count": null,
   "metadata": {
    "collapsed": true
   },
   "outputs": [],
   "source": [
    " #curR = [retValue(rKey + obj2,dist,maxD) for obj2 in sortObj if not obj2 in repObj]\n",
    "                                #othReps = [ sorted([retValue(rObj + \":\" + obj2,dist,maxD) for rObj in repObj if rObj != swapR]) for obj2 in sortObj if not obj2 in repObj]\n"
   ]
  },
  {
   "cell_type": "code",
   "execution_count": null,
   "metadata": {
    "collapsed": true
   },
   "outputs": [],
   "source": [
    "swap(dist,repObj)"
   ]
  },
  {
   "cell_type": "code",
   "execution_count": null,
   "metadata": {
    "collapsed": true
   },
   "outputs": [],
   "source": [
    "iresults = selObjs(dist,3)\n",
    "repObj = iresults['Mediods']\n",
    "info = iresults['ClusterInfo']\n",
    "objI = info['Objective']"
   ]
  },
  {
   "cell_type": "code",
   "execution_count": null,
   "metadata": {
    "collapsed": true
   },
   "outputs": [],
   "source": [
    "counter = 0\n",
    "while state == False:\n",
    "    counter = counter + 1\n",
    "    if counter == 5:\n",
    "        state = True\n",
    "print \"while stopped\""
   ]
  },
  {
   "cell_type": "code",
   "execution_count": null,
   "metadata": {
    "collapsed": true
   },
   "outputs": [],
   "source": [
    "state = False"
   ]
  },
  {
   "cell_type": "code",
   "execution_count": null,
   "metadata": {
    "collapsed": true
   },
   "outputs": [],
   "source": [
    "\n",
    "#while state == False:\n",
    "nResults = swap(dist,repObj)\n",
    "bestPair = nResults['Swap']; cumDs = nResults['Contributions']\n",
    "#print bestPair, cumDs[bestPair]\n",
    "if (cumDs[bestPair] < 0):\n",
    "    [old, new] = splitWords(bestPair)\n",
    "    temp = [rObj for rObj in repObj if rObj != old]\n",
    "    temp.append(new)\n",
    "    nInfo = cluster(dist,temp)\n",
    "    objN = nInfo['Objective']\n",
    "    if objN < objI:\n",
    "        repObj.remove(old); repObj.append(new)\n",
    "        print \"Representative object %s was swapped out for %s\" % (old,new)\n",
    "    else:\n",
    "        print \"Optimal Clustering achieved\"\n",
    "        state = True\n",
    "        nInfo = cluster(dist,repObj)\n",
    "        NewAvgs = nInfo['ClAvgs']\n",
    "        NewClusters = nInfo['Clusters']\n",
    "        print \"Average dissimilarity among all clusters %s\" % objN\n",
    "        print \"Average dissimilarity among each cluster (%s,%s) (%s,%s) (%s,%s)\" % ( repObj[0], NewAvgs[ repObj[0] ], repObj[1], NewAvgs[ repObj[1] ], repObj[2], NewAvgs[ repObj[2] ] ) \n",
    "else:\n",
    "    print \"No Swap\"\n",
    "    state = True\n",
    "    iclAvgs = info['ClAvgs']\n",
    "    iClusters = info['Clusters']\n",
    "    print \"Average dissimilarity among all clusters %s\" % objI\n",
    "    print \"Average dissimilarity among each cluster (%s,%s) (%s,%s) (%s,%s)\" % (repObj[0],iclAvgs[repObj[0]],repObj[1],iclAvgs[repObj[1]],repObj[2],iclAvgs[repObj[2]]) \n",
    "print state"
   ]
  },
  {
   "cell_type": "code",
   "execution_count": null,
   "metadata": {
    "collapsed": true
   },
   "outputs": [],
   "source": [
    "def optimize(dist,iResults):\n",
    "    counter = 0\n",
    "    #initCl = cluster(dist,repObj)\n",
    "    #objI = info['Objective']\n",
    "    repObj = iResults['Mediods']\n",
    "    info = iResults['ClusterInfo'];obj = info['Objective']\n",
    "    state = False\n",
    "    while state == False:    \n",
    "        nResults = swap(dist,repObj)\n",
    "        bestPair = nResults['Swap']; cumDs = nResults['Contributions']\n",
    "        if (cumDs[bestPair] < 0):\n",
    "            [old, new] = splitWords(bestPair)\n",
    "            temp = [rObj for rObj in repObj if rObj != old]\n",
    "            temp.append(new)\n",
    "            nInfo = cluster(dist,temp)\n",
    "            objN = nInfo['Objective']\n",
    "            if objN < obj:\n",
    "                repObj.remove(old); repObj.append(new)\n",
    "                obj = objN\n",
    "                clAvgs = nInfo['ClAvgs']\n",
    "                Clusters = nInfo['Clusters']\n",
    "                print \"Representative object %s was swapped out for %s\" % (old,new)\n",
    "                #return {'repObj':repObj,'Objective':objN,'ClusterAverages':NewAvgs,'Clusters':NewClusters}\n",
    "            else:\n",
    "                print \"Optimal Clustering achieved\"\n",
    "                state = True\n",
    "                nInfo = cluster(dist,repObj)\n",
    "                clAvgs = nInfo['ClAvgs']\n",
    "                Clusters = nInfo['Clusters']\n",
    "                print \"Average dissimilarity among all clusters %s\" % obj\n",
    "                print \"Average dissimilarity among each cluster (%s,%s) (%s,%s) (%s,%s)\" % ( repObj[0], clAvgs[ repObj[0] ], repObj[1], clAvgs[ repObj[1] ], repObj[2], clAvgs[ repObj[2] ] ) \n",
    "            #return {'repObj':repObj,'Objective':objN,'ClusterAverages':NewAvgs,'Clusters':NewClusters}\n",
    "        else:\n",
    "            print \"No Swap\"\n",
    "            state = True\n",
    "            clAvgs = info['ClAvgs']\n",
    "            Clusters = info['Clusters']\n",
    "            print \"Average dissimilarity among all clusters %s\" % obj\n",
    "            print \"Average dissimilarity among each cluster (%s,%s) (%s,%s) (%s,%s)\" % (repObj[0],clAvgs[repObj[0]],repObj[1],clAvgs[repObj[1]],repObj[2],clAvgs[repObj[2]]) \n",
    "    return {'repObj':repObj,'Objective':obj,'ClusterAverages':clAvgs,'Clusters':Clusters}\n",
    "        \n",
    "        #{'Clusters':clusters,'Objective':avgDS,'ClAvgs':avgCds}\n",
    "        #{'Clusters':clusters,'Objective':avgDS,'ClAvgs':avgCds}\n",
    "        \n",
    "        \n",
    "        #print counter\n",
    "        #results = swap(dist,repObj,objI)\n",
    "        #repObjN = results['repObj']; objN = results['Objective']"
   ]
  },
  {
   "cell_type": "code",
   "execution_count": null,
   "metadata": {
    "collapsed": true
   },
   "outputs": [],
   "source": [
    "results = optimize(dist,iresults)"
   ]
  },
  {
   "cell_type": "code",
   "execution_count": null,
   "metadata": {
    "collapsed": true
   },
   "outputs": [],
   "source": [
    "obj = results['Objective']\n",
    "print obj"
   ]
  },
  {
   "cell_type": "code",
   "execution_count": null,
   "metadata": {
    "collapsed": true
   },
   "outputs": [],
   "source": [
    "def swap(distances, repObj,objI):\n",
    "    maxD = 10;\n",
    "    names = ['BEL','BRA','CHI','CUB','EGY','FRA','IND','ISR','USA','USS','YUG','ZAI']\n",
    "    sortObj = sorted(names); \n",
    "    n = len(sortObj); k = len(repObj)\n",
    "    #nQ = n/4\n",
    "    counter = 0; progress = 0\n",
    "    cumDs = {}\n",
    "    minR = -10\n",
    "    N = ( (n - k)**2) * k\n",
    "    #N = ( len(sortObj) - len(repObj) ) * len(repObj) * ( len(sortObj) - len(repObj) )\n",
    "    nD = N / 10\n",
    "    for iObj in repObj: ## object i\n",
    "    #for swapR in repObj:\n",
    "        for hObj in sortObj: ## object h\n",
    "        #for swapObj in sortObj:\n",
    "            if not hObj in repObj:\n",
    "            #if not swapObj in repObj: \n",
    "                print \"Consider to swap %s for %s\" % (iObj, hObj)\n",
    "                counter = counter + 1\n",
    "                if counter % nD == 0:\n",
    "                    progress = progress + 10\n",
    "                    print \"%s percent completed\" % progress\n",
    "                swapPair = iObj + \":\" + hObj\n",
    "                #swapPair = swapR + \":\" + swapObj\n",
    "                #sKey = swapObj + \":\"\n",
    "                #rKey = swapR + \":\"\n",
    "                repKey = iObj + \":\"\n",
    "                swapKey = hObj + \":\"\n",
    "                Tcont = 0\n",
    "                for jObj in sortObj: ## object j\n",
    "                #for obj2 in sortObj: \n",
    "                    if (not jObj in repObj): #and (jObj != hObj):\n",
    "                    #if (not obj2 in repObj):\n",
    "                        curSwap = retValue(swapKey + jObj, dist, maxD)\n",
    "                        curR = retValue(repKey + jObj, dist, maxD)\n",
    "                        othReps = sorted([retValue(rObj + \":\" + jObj, dist, maxD) for rObj in repObj if rObj != iObj])  ## [D_j, E_j]\n",
    "                        if any( curR > othR for othR in othReps) and any( curSwap > othR for othR in othReps): ## a\n",
    "                            Tcont = Tcont + 0\n",
    "                        if all(curR <= othR for othR in othReps): ## b\n",
    "                            if curSwap < othReps[0]: ## b1\n",
    "                                Tcont = Tcont + ( curSwap - curR )\n",
    "                            if curSwap >= othReps[0]: ## b2\n",
    "                                Tcont = Tcont + (othReps[0] - curR)\n",
    "                        if any( curR > othR for othR in othReps) and all(curSwap < othR for othR in othReps) and curSwap < curR: ## c\n",
    "                            Tcont = Tcont + (curSwap - othReps[0])\n",
    "                cumDs[swapPair] = Tcont\n",
    "    bestPair = select(cumDs,0); minR = cumDs[bestPair]\n",
    "    if (cumDs[bestPair] < 0):\n",
    "        [old, new] = splitWords(bestPair)\n",
    "        temp = [rObj for rObj in repObj if rObj != old]\n",
    "        temp.append(new)\n",
    "        info = cluster(dist,temp)\n",
    "        objN = info['Objective']\n",
    "        if objN < objI:\n",
    "            repObj.remove(old); repObj.append(new)\n",
    "            print \"Representative object %s was swapped out for %s\" %(old,new)\n",
    "            return {'repObj':repObj,'Objective':objN}\n",
    "        else:\n",
    "            print \"Optimal Clustering achieved\"\n",
    "            return {'repObj':repObj,'Objective':objI}\n",
    "    else:\n",
    "        print \"No swap\"\n",
    "        return {'repObj':repObj,'Objective':objI}\n",
    "    \n",
    "\n",
    "\n"
   ]
  },
  {
   "cell_type": "code",
   "execution_count": null,
   "metadata": {
    "collapsed": true
   },
   "outputs": [],
   "source": [
    "repObj"
   ]
  },
  {
   "cell_type": "code",
   "execution_count": null,
   "metadata": {
    "collapsed": true
   },
   "outputs": [],
   "source": [
    "clusters = {}\n",
    "names = ['BEL','BRA','CHI','CUB','EGY','FRA','IND','ISR','USA','USS','YUG','ZAI']\n",
    "sortObj = sorted(names);\n",
    "for rObj in repObj:\n",
    "    clusters[rObj] = []; clusters[rObj].append(rObj)\n"
   ]
  },
  {
   "cell_type": "code",
   "execution_count": null,
   "metadata": {
    "collapsed": true
   },
   "outputs": [],
   "source": [
    "clusters"
   ]
  },
  {
   "cell_type": "code",
   "execution_count": null,
   "metadata": {
    "collapsed": true
   },
   "outputs": [],
   "source": [
    "obj = \"FRA\"\n",
    "maxD = 10\n",
    "#nearest = min([rObj,retValue(obj + \":\" + rObj, dist,maxD) for rObj in repObj, key = lambda k:k[1]])\n",
    "min([[rObj,retValue(obj + \":\" + rObj, dist,maxD)] for rObj in repObj],key = lambda k:k[1])"
   ]
  },
  {
   "cell_type": "code",
   "execution_count": null,
   "metadata": {
    "collapsed": true
   },
   "outputs": [],
   "source": [
    "info = cluster(dist,repObj)\n",
    "objI = info['Objective']\n",
    "print objI\n",
    "#print clusters"
   ]
  },
  {
   "cell_type": "code",
   "execution_count": null,
   "metadata": {
    "collapsed": true
   },
   "outputs": [],
   "source": [
    "results = swap(dist,repObj,objI)\n",
    "print results['repObj']\n",
    "print results['Objective']"
   ]
  },
  {
   "cell_type": "code",
   "execution_count": null,
   "metadata": {
    "collapsed": true
   },
   "outputs": [],
   "source": [
    "repObj2 = results['repObj']\n",
    "obj2 = results['Objective']"
   ]
  },
  {
   "cell_type": "code",
   "execution_count": null,
   "metadata": {
    "collapsed": true
   },
   "outputs": [],
   "source": [
    "results = swap(dist,repObj2,obj2)\n",
    "print results['repObj']\n",
    "print results['Objective']"
   ]
  },
  {
   "cell_type": "code",
   "execution_count": null,
   "metadata": {
    "collapsed": true
   },
   "outputs": [],
   "source": [
    "### Create dictionary of dictionaries from input of distance matrix [p x p]\n",
    "def createDict(distMatrix): \n",
    "    names = distMatrix[0]\n",
    "    distDict = {}\n",
    "    for i in range(1,len(names)):\n",
    "        wrdDict = {}\n",
    "        wrd1 = names[i] # select object i \n",
    "        for j in range(1,len(names)):\n",
    "            wrd2 = names[j] # select object j\n",
    "            wrdDict[wrd2] = distMatrix[i][j]\n",
    "        distDict[wrd1] = wrdDict\n",
    "    return distDict\n"
   ]
  },
  {
   "cell_type": "code",
   "execution_count": null,
   "metadata": {
    "collapsed": true
   },
   "outputs": [],
   "source": [
    "repObj2 = results['repObj']\n",
    "objN = results['Objective']"
   ]
  },
  {
   "cell_type": "code",
   "execution_count": null,
   "metadata": {
    "collapsed": true
   },
   "outputs": [],
   "source": [
    "cluster(dist,repObj2)\n",
    "\n"
   ]
  },
  {
   "cell_type": "code",
   "execution_count": null,
   "metadata": {
    "collapsed": true
   },
   "outputs": [],
   "source": [
    "results2 = swap(dist,repObj2,objN)"
   ]
  },
  {
   "cell_type": "code",
   "execution_count": null,
   "metadata": {
    "collapsed": true
   },
   "outputs": [],
   "source": [
    "repObj4 = swap(dist,repObj3)"
   ]
  },
  {
   "cell_type": "code",
   "execution_count": null,
   "metadata": {
    "collapsed": true
   },
   "outputs": [],
   "source": [
    "repObj5 = swap(dist,repObj4)"
   ]
  },
  {
   "cell_type": "code",
   "execution_count": null,
   "metadata": {
    "collapsed": true
   },
   "outputs": [],
   "source": [
    "#def swap2(distances, repObj):  ## edited\n",
    "maxD = 10;\n",
    "names = ['BEL','BRA','CHI','CUB','EGY','FRA','IND','ISR','USA','USS','YUG','ZAI']\n",
    "sortObj = sorted(names); n = len(sortObj); nQ = n/4\n",
    "    #    counter = 0; progress = 0\n",
    "cumDs = {}\n",
    "        \n",
    "for swapR in repObj: ## object i\n",
    "        othRepObj = [rObj for rObj in repObj if rObj != swapR]\n",
    "        for swapObj in sortObj: \n",
    "            if not swapObj in repObj: ## object h\n",
    "                swapPair = swapR + \":\" + swapObj\n",
    "                sKey = swapObj + \":\"\n",
    "                curSwap = [retValue(sKey + obj2, dist,maxD) for obj2 in sortObj if not obj2 in repObj] ## d(j,h)\n",
    "                ## [D_j, E_j]\n",
    "                rKey = swapR + \":\"\n",
    "                curR = [retValue(rKey + obj2,dist,maxD) for obj2 in sortObj if not obj2 in repObj]\n",
    "                othReps = [ sorted([retValue(rObj + \":\" + obj2,dist,maxD) for rObj in repObj if rObj != swapR]) for obj2 in sortObj if not obj2 in repObj]\n",
    "                Tcont = 0\n",
    "                for j in range(len(curSwap)):\n",
    "                    if any( curR[j] > othR for othR in othReps) and any( curSwap[j] > othR for othR in othReps):\n",
    "                        Tcont = Tcont + 0\n",
    "                    if all(curR[j] <= othR for othR in othReps[j]): \n",
    "                        if curSwap[j] < othReps[j][1]:\n",
    "                            Tcont = Tcont + ( curSwap[j] - curR[j] )\n",
    "                        if curSwap[j] >= othReps[j][1]:\n",
    "                            Tcont = Tcont + (othReps[j][1] - curR[j])\n",
    "                    if any( curR[j] > othR for othR in othReps[j]) and all(curSwap[j] < othR for othR in othReps[j]) and curSwap[j] < curR[j]:\n",
    "                            Tcont = Tcont + (curSwap[j] - othReps[j][0])\n",
    "                cumDs[swapPair] = Tcont\n",
    "swapPair = select(cumDs,0)\n",
    "if (cumDs[swapPair] < 0):\n",
    "    [old, new] = splitWords(swapPair)\n",
    "    repObj.remove(old); repObj.append(new)\n",
    "    \n",
    "\n",
    "    \n",
    "\n",
    "        \n",
    "                #b1[j] = curSwap[j] - curR[j]\n",
    "                #[b1Sum[j] = [(curSwap[j] - curR[j]) for j in range(len(curSwap)) if ( all(curR[j] <= othR for othR in othReps) and curSwap[j] < othReps[j][1]) ]   \n",
    "                #b2Sum = [(othReps[i][1] - curR[i]) for j in range(len(curSwap)) if ( all(curR[i] <= othR for othR in othReps) and curSwap[i] >= othReps[i][1] )]   \n",
    "                #cSum = [curSwap[i] - curR[i] for j in range(len(curSwap)) if ( any(curR[i] > othR for othR in othReps) and all(curSwap[i] < othR for othR in othReps) and (curSwap[i] < curR[i]) )]   \n",
    "                #b1Sum = sum(curSwap[i] - curR[i] for i in range(len(curSwap)) if all(curR[i] <= othR for othR in othReps) and curSwap[i] < othReps[i][1])   \n",
    "                #b2Sum = sum(othReps[i][1] - curR[i] for i in range(len(curSwap)) if all(curR[i] <= othR for othR in othReps) and curSwap[i] >= othReps[i][1])   \n",
    "                #cSum = sum(curSwap[i] - curR[i] for i in range(len(curSwap)) if any(curR[i] > othR for othR in othReps) and all(curSwap[i] < othR for othR in othReps) and (curSwap[i] < curR[i]) )   \n",
    "                #cumDs[swapPair] = b1Sum + b2Sum + cSum    \n",
    "                    \n",
    "                    \n",
    "\n",
    "#        minPair = find3dObj(swapConts) ## find the object pair (i, h) with the minimum total result of swapping\n",
    "#        minR = minPair[2]\n",
    "#        if (minR < 0): ### swap out representative objects\n",
    "#                old = minPair[0]; new = minPair[1]\n",
    "#                del repObj[old]\n",
    "#                repObj[new] = distDict[new];\n",
    "#                return {'mediods':repObj, 'minR':minR, 'tConts':swapConts}\n",
    "#        else:\n",
    "#                return {'mediods':repObj, 'minR':minR,'tConts':swapConts}\n",
    "\n",
    "\n"
   ]
  },
  {
   "cell_type": "code",
   "execution_count": null,
   "metadata": {
    "collapsed": true
   },
   "outputs": [],
   "source": [
    "repObj"
   ]
  },
  {
   "cell_type": "code",
   "execution_count": null,
   "metadata": {
    "collapsed": true
   },
   "outputs": [],
   "source": [
    "#def swap2(distances, repObj):  ## edited\n",
    "maxD = 10;\n",
    "names = ['BEL','BRA','CHI','CUB','EGY','FRA','IND','ISR','USA','USS','YUG','ZAI']\n",
    "sortObj = sorted(names); n = len(sortObj); nQ = n/4\n",
    "    #    counter = 0; progress = 0\n",
    "cumDs = {}\n",
    "        \n",
    "for swapR in repObj: ## object i\n",
    "        othRepObj = [rObj for rObj in repObj if rObj != swapR]\n",
    "        for swapObj in sortObj: \n",
    "            if not swapObj in repObj: ## object h\n",
    "                swapPair = swapR + \":\" + swapObj\n",
    "                sKey = swapObj + \":\"\n",
    "                curSwap = [retValue(sKey + obj2, dist,maxD) for obj2 in sortObj if not obj2 in repObj and obj2 != swapObj] ## d(j,h)\n",
    "                ## [D_j, E_j]\n",
    "                rKey = swapR + \":\"\n",
    "                curR = [retValue(rKey + obj2,dist,maxD) for obj2 in sortObj if not obj2 in repObj and obj2 !=swapObj]\n",
    "                othReps = [ sorted([retValue(rObj + \":\" + obj2,dist,maxD) for rObj in repObj if rObj != swapR]) for obj2 in sortObj if not obj2 in repObj and obj2 != swapObj]\n",
    "                Tcont = 0\n",
    "                for j in range(len(curSwap)):\n",
    "                    if any( curR[j] > othR for othR in othReps) and any( curSwap[j] > othR for othR in othReps):\n",
    "                        Tcont = Tcont + 0\n",
    "                    if all(curR[j] <= othR for othR in othReps[j]): \n",
    "                        if curSwap[j] < othReps[j][1]:\n",
    "                            Tcont = Tcont + ( curSwap[j] - curR[j] )\n",
    "                        if curSwap[j] >= othReps[j][1]:\n",
    "                            Tcont = Tcont + (othReps[j][1] - curR[j])\n",
    "                    if any( curR[j] > othR for othR in othReps[j]) and all(curSwap[j] < othR for othR in othReps[j]) and curSwap[j] < curR[j]:\n",
    "                            Tcont = Tcont + (curSwap[j] - othReps[j][0])\n",
    "                cumDs[swapPair] = Tcont\n",
    "swapPair = select(cumDs,0)\n",
    "print swapPair, cumDs[swapPair]\n",
    "#if (cumDs[swapPair] < 0):\n",
    "#    [old, new] = splitWords(swapPair)\n",
    "#    repObj.remove(old); repObj.append(new)\n",
    "    \n",
    "\n",
    "    \n",
    "\n",
    "        \n",
    "                #b1[j] = curSwap[j] - curR[j]\n",
    "                #[b1Sum[j] = [(curSwap[j] - curR[j]) for j in range(len(curSwap)) if ( all(curR[j] <= othR for othR in othReps) and curSwap[j] < othReps[j][1]) ]   \n",
    "                #b2Sum = [(othReps[i][1] - curR[i]) for j in range(len(curSwap)) if ( all(curR[i] <= othR for othR in othReps) and curSwap[i] >= othReps[i][1] )]   \n",
    "                #cSum = [curSwap[i] - curR[i] for j in range(len(curSwap)) if ( any(curR[i] > othR for othR in othReps) and all(curSwap[i] < othR for othR in othReps) and (curSwap[i] < curR[i]) )]   \n",
    "                #b1Sum = sum(curSwap[i] - curR[i] for i in range(len(curSwap)) if all(curR[i] <= othR for othR in othReps) and curSwap[i] < othReps[i][1])   \n",
    "                #b2Sum = sum(othReps[i][1] - curR[i] for i in range(len(curSwap)) if all(curR[i] <= othR for othR in othReps) and curSwap[i] >= othReps[i][1])   \n",
    "                #cSum = sum(curSwap[i] - curR[i] for i in range(len(curSwap)) if any(curR[i] > othR for othR in othReps) and all(curSwap[i] < othR for othR in othReps) and (curSwap[i] < curR[i]) )   \n",
    "                #cumDs[swapPair] = b1Sum + b2Sum + cSum    \n",
    "                    \n",
    "                    \n",
    "\n",
    "#        minPair = find3dObj(swapConts) ## find the object pair (i, h) with the minimum total result of swapping\n",
    "#        minR = minPair[2]\n",
    "#        if (minR < 0): ### swap out representative objects\n",
    "#                old = minPair[0]; new = minPair[1]\n",
    "#                del repObj[old]\n",
    "#                repObj[new] = distDict[new];\n",
    "#                return {'mediods':repObj, 'minR':minR, 'tConts':swapConts}\n",
    "#        else:\n",
    "#                return {'mediods':repObj, 'minR':minR,'tConts':swapConts}\n",
    "\n",
    "\n",
    "\n"
   ]
  },
  {
   "cell_type": "code",
   "execution_count": null,
   "metadata": {
    "collapsed": true
   },
   "outputs": [],
   "source": [
    "select(cumDs,0)"
   ]
  },
  {
   "cell_type": "code",
   "execution_count": null,
   "metadata": {
    "collapsed": true
   },
   "outputs": [],
   "source": [
    "print othReps[0][1]\n",
    "#print b1Sum\n",
    "#print b2Sum\n",
    "#print cSum"
   ]
  },
  {
   "cell_type": "code",
   "execution_count": null,
   "metadata": {
    "collapsed": true
   },
   "outputs": [],
   "source": [
    "b1Sum = [0] ** 9 \n",
    "[b1Sum[j] = (curSwap[j] - curR[j]) for j in range(len(curSwap)) if all(curR[j] <= othR for othR in othReps) and (curSwap[j] < othReps[j][1]) ]   "
   ]
  },
  {
   "cell_type": "code",
   "execution_count": null,
   "metadata": {
    "collapsed": true
   },
   "outputs": [],
   "source": [
    "swapR = 'BEL'\n",
    "swapObj = 'BRA'\n",
    "swapPair = swapR + \":\" + swapObj\n",
    "sKey = swapObj + \":\"\n",
    "curSwap = [retValue(sKey + obj2, dist,maxD) for obj2 in sortObj if not obj2 in repObj] ## d(j,h)\n",
    "rKey = swapR + \":\"\n",
    "curR = [retValue(rKey + obj2,dist,maxD) for obj2 in sortObj if not obj2 in repObj]\n",
    "othReps = [ sorted([retValue(rObj + \":\" + obj2,dist,maxD) for rObj in repObj if rObj != swapR]) for obj2 in sortObj if not obj2 in repObj]\n"
   ]
  },
  {
   "cell_type": "code",
   "execution_count": null,
   "metadata": {
    "collapsed": true
   },
   "outputs": [],
   "source": [
    "print curSwap\n",
    "print curR\n",
    "print othReps\n",
    "#print [[(curSwap[j] - curR[j]) if ( all(curR[j] <= othR for othR in othReps) and curSwap[j] < othReps[j][1])] for j in range(len(curSwap)) ]   "
   ]
  },
  {
   "cell_type": "code",
   "execution_count": null,
   "metadata": {
    "collapsed": true
   },
   "outputs": [],
   "source": [
    "cSum = [curSwap[j] - curR[j] for j in range(len(curSwap)) if ( any(curR[j] > othR for othR in othReps) and all(curSwap[j] < othR for othR in othReps) and (curSwap[j] < curR[j]) )]   "
   ]
  },
  {
   "cell_type": "code",
   "execution_count": null,
   "metadata": {
    "collapsed": true
   },
   "outputs": [],
   "source": [
    "cSum"
   ]
  },
  {
   "cell_type": "code",
   "execution_count": null,
   "metadata": {
    "collapsed": true
   },
   "outputs": [],
   "source": [
    "import operator\n",
    "print len(cumDs)\n",
    "print cumDs\n",
    "print min(cumDs.items(), key = operator.itemgetter(1))"
   ]
  },
  {
   "cell_type": "code",
   "execution_count": null,
   "metadata": {
    "collapsed": true
   },
   "outputs": [],
   "source": [
    "## Function for selecting k representative objects from a set of p distinct objects.\n",
    "## Input is in the form of a dissimilarity matrix [p x p], and integer k.\n",
    "\n",
    "def selectObjects(distDict, k):\n",
    "    \n",
    "    #### Intialize clustering by selecting the first representative object,\n",
    "    ### an object with minimum cumulative distance from all other objects.\n",
    "    \n",
    "    repObj = {}; cumDs = {}\n",
    "    for wrd1, vec in distDict.iteritems(): \n",
    "        sumDs = 0 \n",
    "        for wrd2, d in vec.iteritems():\n",
    "           sumDs = sumDs + d\n",
    "        cumDs[wrd1] = sumDs   \n",
    "    initSelection = select(cumDs,0) ## select object with minimum cummulative distance from other objects, mM = 0\n",
    "    repObj[initSelection] = distDict[initSelection]\n",
    "    \n",
    "    r = 1 ## the first representative object is found, count of representative objects\n",
    "    \n",
    "    while r < k:\n",
    "        contDict = {}; cumConts = {}; mediods = repObj.keys()\n",
    "        for wrd1, vec in distDict.iteritems():  ### objects i\n",
    "            contRow = {}; cumCont = 0\n",
    "            if (not wrd1 in mediods):\n",
    "                for wrd2, d in vec.iteritems(): ### objects j\n",
    "                    if (not wrd2 in mediods):\n",
    "                        if( r > 1): ## select the 3rd and beyond representative objects i_r\n",
    "                            for i in range(1,len(mediods)): ### representative objects i_r\n",
    "                                ## determine max{D_j - d(j,i), 0}, where D_j = min(d(j,i_r))\n",
    "                                    ## where j = wrd2, i = wrd1, i_r = mediods[1:r]\n",
    "                                if (repObj[mediods[i-1]][wrd2] < repObj[mediods[i]][wrd2]):\n",
    "                                    store = max(repObj[mediods[i-1]][wrd2] - distDict[wrd2][wrd1], 0)\n",
    "                                else:\n",
    "                                    store = max(repObj[mediods[i]][wrd2] - distDict[wrd2][wrd1], 0)          \n",
    "                        else: ## select the 2nd representative object\n",
    "                            store = max(repObj[mediods[0]][wrd2] - distDict[wrd2][wrd1], 0)\n",
    "                        contRow[wrd2] = store; cumCont = cumCont + store\n",
    "                contDict[wrd1] = contRow; cumConts[wrd1] = cumCont  \n",
    "        selectedObj = select(cumConts, 1) ## select objects with maximum contribution to unselected objects\n",
    "        repObj[selectedObj] = distDict[selectedObj]; \n",
    "        r = r + 1 # r is incremented as representative objects are found\n",
    "    return repObj"
   ]
  },
  {
   "cell_type": "code",
   "execution_count": null,
   "metadata": {
    "collapsed": true
   },
   "outputs": [],
   "source": [
    "distDict = createDict(dMat)"
   ]
  },
  {
   "cell_type": "code",
   "execution_count": null,
   "metadata": {
    "collapsed": true
   },
   "outputs": [],
   "source": [
    "repObj = {}; cumDs = {}\n",
    "for wrd1, vec in distDict.iteritems(): \n",
    "    sumDs = 0 \n",
    "    for wrd2, d in vec.iteritems():\n",
    "       sumDs = sumDs + d\n",
    "    cumDs[wrd1] = sumDs   \n",
    "initSelection = select(cumDs,0) ## select object with minimum cummulative distance from other objects, mM = 0\n",
    "repObj[initSelection] = distDict[initSelection]"
   ]
  },
  {
   "cell_type": "code",
   "execution_count": null,
   "metadata": {
    "collapsed": true
   },
   "outputs": [],
   "source": [
    "print repObj\n",
    "print cumDs"
   ]
  },
  {
   "cell_type": "code",
   "execution_count": null,
   "metadata": {
    "collapsed": true
   },
   "outputs": [],
   "source": [
    "## structure data\n",
    "\n",
    "def structure(distDict,repObj):\n",
    "    mediods = repObj.keys()\n",
    "    repDs = {}\n",
    "    for objh, dist in distDict.iteritems():\n",
    "        store = {}\n",
    "        if not objh in mediods: ## only non selected objects \n",
    "            for i in range(len(mediods)):\n",
    "                store[mediods[i]] = repObj[mediods[i]][objh] \n",
    "            repDs[objh] = store\n",
    "    return repDs\n"
   ]
  },
  {
   "cell_type": "code",
   "execution_count": null,
   "metadata": {
    "collapsed": true
   },
   "outputs": [],
   "source": [
    "def find3dObj(d3dict):\n",
    "    inverse = [ (i, h, TotalSwap) for i, swSet in d3dict.items() for h, TotalSwap in swSet.items()]\n",
    "    minPair = min(inverse, key = lambda k:k[2]); \n",
    "    return minPair"
   ]
  },
  {
   "cell_type": "code",
   "execution_count": null,
   "metadata": {
    "collapsed": true
   },
   "outputs": [],
   "source": [
    "def initPairs(distDict, repObj):\n",
    "    mediods = repObj.keys()\n",
    "    swapConts = {}\n",
    "    for obji in range(len(mediods)):\n",
    "        cumConts = {};\n",
    "        for objh in distDict.keys():\n",
    "            cumConts[objh] = 0\n",
    "        swapConts[obji] = cumConts\n",
    "    swapConts[obji][objh] = -10\n",
    "    return swapConts\n"
   ]
  },
  {
   "cell_type": "code",
   "execution_count": null,
   "metadata": {
    "collapsed": true
   },
   "outputs": [],
   "source": [
    "## copy new approach\n",
    "\n",
    "## Consider swapping objects i for h, where i is the set of k representative objects,\n",
    "## and h consists of the remaining p-k unselected objects.\n",
    "## Determine the result of swapping out i for h on the initial clustering of j(s), where \n",
    "## j include the p-k unselected objects\n",
    "\n",
    "def swap(distDist, repObj):\n",
    "    repDs = structure(distDict,repObj)\n",
    "    mediods = repObj.keys(); r = len(mediods)\n",
    "    swapSet = {}; ## to contain the set of rSwapDicts for each object i\n",
    "    swapConts = {} ## set of cumSwaps for each object i\n",
    "    for i in range(len(mediods)): ## objects i\n",
    "        med = mediods[i]\n",
    "        rSwapDict = {}; ## to contain the set of swapping contribution of j(s) on h\n",
    "        cumConts = {}; ## cumulative result of swapping contribution of j(s) on h\n",
    "        for wrd1, vec in distDict.iteritems():  ## objects h\n",
    "            swapObj = {}; ## to contain the contribution of j  \n",
    "            cumCont = 0; ## initialize counter, contributions of j on h\n",
    "            if (not wrd1 in mediods):\n",
    "                for wrd2, d in vec.iteritems(): ## objects j\n",
    "                    if (not wrd2 in mediods) and (wrd2 != wrd1):\n",
    "                        othObjs = [dist for key, dist in repDs[wrd2].iteritems() if key != med]\n",
    "                        sortObjs = sorted( othObjs );  \n",
    "                        #TFa = [ (repDs[wrd2][med] > dist) and (distDict[wrd2][wrd1] > dist) for dist in othObjs]\n",
    "                        TFa = any(repDs[wrd2][med] > dist for dist in othObjs) and any(distDict[wrd2][wrd1] > dist for dist in othObjs)\n",
    "                        TFb = all( repDs[wrd2][med] <=  dist for dist in othObjs)\n",
    "                        TFc = any(repDs[wrd2][med] > dist for dist in othObjs) and all(distDict[wrd2][wrd1] < dist for key, dist in repDs[wrd2].iteritems())  \n",
    "                        #if ( any(TFa[i] == True for i in range( len(TFa) ) ) ):\n",
    "                        if ( TFa == True ): \n",
    "                            swap = 0\n",
    "                        if (TFb == True): ## b\n",
    "                            scndClosest = sortObjs[0]\n",
    "                            Dj = repDs[wrd2][med] ## closest representative object\n",
    "                            if (distDict[wrd2][wrd1] < scndClosest): ## b1\n",
    "                                swap = distDict[wrd2][wrd1] - Dj\n",
    "                            else: ## b2\n",
    "                                swap = scndClosest - Dj\n",
    "                        if (TFc == True): ## c \n",
    "                            closestObj = sortObjs[0]\n",
    "                            swap = distDict[wrd2][wrd1] - closestObj\n",
    "                        swapObj[wrd2] = swap; \n",
    "                        cumCont = cumCont + swap\n",
    "                rSwapDict[wrd1] = swapObj; \n",
    "                cumConts[wrd1] = cumCont\n",
    "        swapSet[med] = rSwapDict; swapConts[med] = cumConts\n",
    "    minPair = find3dObj(swapConts) ## find the object pair (i, h) with the minimum total result of swapping\n",
    "    minR = minPair[2]\n",
    "    if (minR < 0): ### swap out representative objects\n",
    "        old = minPair[0]; new = minPair[1]\n",
    "        del repObj[old]\n",
    "        repObj[new] = distDict[new]; \n",
    "        return {'mediods':repObj, 'minR':minR}\n",
    "    else:\n",
    "        return {'mediods':repObj, 'minR':minR}\n",
    "\n",
    "\n",
    "\n"
   ]
  },
  {
   "cell_type": "code",
   "execution_count": null,
   "metadata": {
    "collapsed": true
   },
   "outputs": [],
   "source": [
    "def optimize(distDict, repObjects):\n",
    "    swapConts = initPairs(distDict,repObjects)\n",
    "    minResult = find3dObj(swapConts)[2]\n",
    "    while( minResult < 0 ):\n",
    "        results = swap(distDict,repObjects)\n",
    "        repObj = results['mediods']; minResult = results['minR']\n",
    "    return repObj"
   ]
  },
  {
   "cell_type": "code",
   "execution_count": null,
   "metadata": {
    "collapsed": true
   },
   "outputs": [],
   "source": [
    "def cluster(distDict, repObj):\n",
    "    repDs = structure(distDict, repObj)\n",
    "    clusters = {}; mediods = repObj.keys()\n",
    "    ## initialize list of objects per mediod, cluster contains mediod\n",
    "    for mediod in mediods:  \n",
    "        clusters[mediod] = []; clusters[mediod].append(mediod)\n",
    "    ## build clusters    \n",
    "    for nonSelected, mediods in repDs.iteritems():\n",
    "        nearest = select(mediods,0)\n",
    "        clusters[nearest].append(nonSelected)\n",
    "        \n",
    "    avgDs = {}; clAvgDs = 0\n",
    "    ## calculate average dissimilarity for clusters\n",
    "    for mediod in mediods:\n",
    "        cumSum = 0\n",
    "        numObj = len(clusters[mediod])\n",
    "        for obj in clusters[mediod]:\n",
    "            cumSum = cumSum + distDict[mediod][obj]\n",
    "        cumSum = cumSum / numObj\n",
    "        avgDs[mediod] = cumSum\n",
    "        clAvgDs = clAvgDs + avgDs[mediod]\n",
    "    clAvgDs = clAvgDs / len(mediods)\n",
    "    \n",
    "    print \"Average dissimilarity: %s\" % clAvgDs\n",
    "    for mediod, cluster in clusters.iteritems():\n",
    "        print \"Mediod: %s\" % mediod,\", the cluster contains: %s\" % cluster\n",
    "        print \"Average dissimilarity in cluster: %s\" % avgDs[mediod]\n",
    "                \n",
    "    return {'clusters':clusters, 'averages':avgDs} \n",
    " "
   ]
  },
  {
   "cell_type": "code",
   "execution_count": null,
   "metadata": {
    "collapsed": true
   },
   "outputs": [],
   "source": [
    "distDict = createDict(dMat)"
   ]
  },
  {
   "cell_type": "code",
   "execution_count": null,
   "metadata": {
    "collapsed": true
   },
   "outputs": [],
   "source": [
    "repObji = selectObjects(distDict,3) ## initial selection\n",
    "clusters = cluster(distDict,repObji)"
   ]
  },
  {
   "cell_type": "code",
   "execution_count": null,
   "metadata": {
    "collapsed": true
   },
   "outputs": [],
   "source": [
    "repObj = optimize(distDict, repObji)"
   ]
  },
  {
   "cell_type": "code",
   "execution_count": null,
   "metadata": {
    "collapsed": true
   },
   "outputs": [],
   "source": [
    "clusters = cluster(distDict,repObj)\n"
   ]
  },
  {
   "cell_type": "code",
   "execution_count": null,
   "metadata": {
    "collapsed": true
   },
   "outputs": [],
   "source": [
    "mediods = repObj.keys()\n",
    "print mediods"
   ]
  },
  {
   "cell_type": "code",
   "execution_count": null,
   "metadata": {
    "collapsed": true
   },
   "outputs": [],
   "source": [
    "repDs = structure(distDict,repObj)\n",
    "nonSelected = repDs.keys()\n",
    "print nonSelected\n",
    "print distDict['USA']\n",
    "\n",
    "select(distDict['USA'],1)"
   ]
  },
  {
   "cell_type": "code",
   "execution_count": null,
   "metadata": {
    "collapsed": true
   },
   "outputs": [],
   "source": [
    "print distDict['CUB']\n",
    "for obj in clusters['CUB']:\n",
    "    print distDict['CUB'][obj]"
   ]
  },
  {
   "cell_type": "code",
   "execution_count": null,
   "metadata": {
    "collapsed": true
   },
   "outputs": [],
   "source": [
    "for mediod in mediods"
   ]
  },
  {
   "cell_type": "code",
   "execution_count": null,
   "metadata": {
    "collapsed": true
   },
   "outputs": [],
   "source": [
    "print 'Initial: ',repObj.keys()\n",
    "results = swap(distDict,repObj)\n",
    "repObjS1 = results['mediods']; minR = results['minR']\n",
    "print 'After swap: ', repObjS1.keys(), minR\n",
    "swaps = results['swCs']; \n",
    "print swaps\n"
   ]
  },
  {
   "cell_type": "code",
   "execution_count": null,
   "metadata": {
    "collapsed": true
   },
   "outputs": [],
   "source": [
    "print 'Previous: ',repObjS1.keys()\n",
    "results = swap(distDict,repObjS1)\n",
    "repObjS2 = results['mediods']; minR2 = results['minR']\n",
    "print 'After swap: ', repObjS2.keys(), minR2\n",
    "swaps2 = results['swCs']; \n",
    "print swaps2\n",
    "\n"
   ]
  },
  {
   "cell_type": "code",
   "execution_count": null,
   "metadata": {
    "collapsed": true
   },
   "outputs": [],
   "source": [
    "print repObjS1.keys()\n",
    "results = swap(distDict,repObj)\n",
    "repObjS2 = results['mediods']; minR = results['minR']\n",
    "print repObjS2.keys(), minR\n",
    "#swaps = results['swCs']; \n",
    "#print swaps"
   ]
  },
  {
   "cell_type": "code",
   "execution_count": null,
   "metadata": {
    "collapsed": true
   },
   "outputs": [],
   "source": [
    "repDs = structure(distDict,repObj)\n",
    "med= 'ZAI'; ##object i\n",
    "wrd2= 'FRA'; ## object j\n",
    "wrd1 = 'EGY' ## object h\n",
    "othObjs = [dist for key, dist in repDs[wrd2].iteritems() if key != med]\n",
    "sortObjs = sorted( othObjs );  \n",
    "print 'Distance of j to i: dist(%s,%s) =' %(wrd2,med), repDs[wrd2][med]\n",
    "print 'Distance of j to other representative objects: ', othObjs\n",
    "print 'Distance of j to object h:', distDict[wrd2][wrd1]\n",
    "#TFa = any(repDs[wrd2][med] > dist) and \n",
    "TFa = [ (repDs[wrd2][med] > dist) and (distDict[wrd2][wrd1] > dist) for dist in othObjs]\n",
    "TFb = all( repDs[wrd2][med] <=  dist for dist in othObjs)  \n",
    "TFc = ( any(repDs[wrd2][med] > dist for dist in othObjs) or all(repDs[wrd2][med] > dist for dist in othObjs)) and all(distDict[wrd2][wrd1] < dist for key, dist in repDs[wrd2].iteritems())  \n",
    "print TFa\n",
    "if ( any(TFa[i] == True for i in range( len(TFa) ) ) ): #and (not all(TFa[i] == False for i in range( len(TFa) ) ) ) )\n",
    "    print 'part a is true'\n",
    "    #if (( not all(TFa[i] == True for i in range(len(TFa))) ) and ( not all(TFa[i] == False for i in range( len(TFa) ) ) )):\n",
    "    \n",
    "#print all(TFa[i] != True for i in range(len(TFa))) or all(TFa[i] != False for i in range(len(TFa) ) )\n",
    "print TFb\n",
    "if (TFb == True):\n",
    "    scndClosest = sortObjs[0]\n",
    "    Dj = repDs[wrd2][med] ## closest representative object\n",
    "    if (distDict[wrd2][wrd1] < scndClosest): ## b1\n",
    "        print 'parts b, b1 is true'\n",
    "        print distDict[wrd2][wrd1] - Dj\n",
    "    else: ## b2\n",
    "        print 'parts b, b2 is true'\n",
    "        print scndClosest - Dj\n",
    "print TFc\n",
    "if (TFc == True): ## c \n",
    "    closestObj = sortObjs[0]\n",
    "    print 'parts c'\n",
    "    print distDict[wrd2][wrd1] - closestObj\n",
    "\n"
   ]
  },
  {
   "cell_type": "code",
   "execution_count": null,
   "metadata": {
    "collapsed": true
   },
   "outputs": [],
   "source": [
    "TFa = [False, True]\n",
    "#not all(TFa[i] == False for i in range(len(TFa)))\n",
    "( not all(TFa[i] == True for i in range(len(TFa))) ) and ( not all(TFa[i] == False for i in range( len(TFa) ) ) )"
   ]
  },
  {
   "cell_type": "code",
   "execution_count": null,
   "metadata": {
    "collapsed": true
   },
   "outputs": [],
   "source": [
    "results = swap(distDict,repObj)\n",
    "repObj = results['mediods']; minR = results['minR']\n",
    "swaps = results['swCs']; \n",
    "print repObj.keys(), minR\n",
    "\n"
   ]
  },
  {
   "cell_type": "code",
   "execution_count": null,
   "metadata": {
    "collapsed": true
   },
   "outputs": [],
   "source": [
    "results = swap(distDict,repObj)\n",
    "repObj = results['mediods']; minR = results['minR']\n",
    "swaps = results['swCs']; \n",
    "print repObj.keys(), minR\n",
    "\n",
    "\n"
   ]
  },
  {
   "cell_type": "code",
   "execution_count": null,
   "metadata": {
    "collapsed": true
   },
   "outputs": [],
   "source": [
    "results = swap(distDict,repObj)\n",
    "repObj = results['mediods']; minR = results['minR']\n",
    "swaps = results['swCs']; \n",
    "print repObj.keys(), minR\n",
    "\n",
    "\n",
    "\n"
   ]
  },
  {
   "cell_type": "code",
   "execution_count": null,
   "metadata": {
    "collapsed": true
   },
   "outputs": [],
   "source": [
    "repDs = structure(distDict,repObj)\n",
    "med = 'ZAI'\n",
    "othObjs = [dist for key, dist in repDs['USS'].iteritems() if key != med]\n",
    "sortObjs = sorted( othObjs );  scndClosest = sortObjs[1]\n",
    "closestObj = sortObjs[0]"
   ]
  },
  {
   "cell_type": "code",
   "execution_count": null,
   "metadata": {
    "collapsed": true
   },
   "outputs": [],
   "source": [
    "repDs = structure(distDict,repObj)\n",
    "othObjs = [dist for key, dist in repDs['USS'].iteritems() if key != med]\n",
    "sortObjs = sorted( othObjs );  scndClosest = sortObjs[1]\n",
    "closestObj = sortObjs[0]"
   ]
  },
  {
   "cell_type": "code",
   "execution_count": null,
   "metadata": {
    "collapsed": true
   },
   "outputs": [],
   "source": [
    "#TFa = [repDs['USS']['ZAI'] > dist for dist in othObjs]\n",
    "#if (all(TFa[i] == True for i in range(len(TFa)) )):\n",
    "#    print False\n",
    "#othObjs ={}\n",
    "othObjs = [dist for key, dist in repDs['USS'].iteritems() if key != 'ZAI']\n",
    "sortedObjs = sorted(othObjs)\n",
    "print sortedObjs\n",
    "print repDs['USS']['ZAI']\n",
    "print othObjs\n",
    "print distDict['USS']['BRA']\n",
    "#for dist in othObjs['BEL']:\n",
    " #   print dist\n",
    "#print othObjs\n",
    "#TF = [repDs[wrd2][med] >  value for key, value in repDs[wrd2].iteritems()]\n",
    "TFa = [ (repDs['USS']['ZAI'] > dist) and (distDict['USS']['BRA'] > dist) for dist in othObjs]\n",
    "print TFa\n",
    " #      dist for dist in othObjs) # and (distDict['USS']['CHI'] > dist) for dist in othObjs)] \n",
    "#print TFa\n",
    "if (not all(TFa[i] == True for i in range(len(TFa))) or not all(TFa[i] == False for i in range(len(TFa) ) )):\n",
    "    print True\n",
    " #and  any(distDict[wrd2][wrd1] > dist for dist in othObjs)# and any(distDict['USS']['BRA'] > dist for dist in othObjs)]\n",
    "#print TFa\n",
    "#counter = 0\n",
    "#counter = counter + 1 for i in range(len(TFa)) if TFa[i] == True\n",
    "\n",
    "#print counter\n",
    "#(any(TFa[i] == True) and not all(TFa == True) for i i)"
   ]
  },
  {
   "cell_type": "code",
   "execution_count": null,
   "metadata": {
    "collapsed": true
   },
   "outputs": [],
   "source": [
    "if (minR < 0): ### swap out representative objects\n",
    "    old = minPair[0]; new = minPair[1]\n",
    "    del repObj[old]\n",
    "    repObj[new] = distDict[new]; \n",
    "    print repObj\n",
    "else:\n",
    "    print repObj\n",
    "#return {'mediods':repObj, 'minR':minR, 'swCs':swapConts}"
   ]
  },
  {
   "cell_type": "code",
   "execution_count": null,
   "metadata": {
    "collapsed": true
   },
   "outputs": [],
   "source": [
    "print ( any([True, True, True]) and not all([True, True, True]))"
   ]
  },
  {
   "cell_type": "code",
   "execution_count": null,
   "metadata": {
    "collapsed": true
   },
   "outputs": [],
   "source": [
    "## copy new approach\n",
    "\n",
    "## Consider swapping objects i for h, where i is the set of k representative objects,\n",
    "## and h consists of the remaining p-k unselected objects.\n",
    "## Determine the result of swapping out i for h on the initial clustering of j(s), where \n",
    "## j include the p-k unselected objects\n",
    "\n",
    "#def swap(distDist, repObj):\n",
    "repDs = structure(distDict,repObj)\n",
    "mediods = repObj.keys(); r = len(mediods)\n",
    "swapSet = {}; ## to contain the set of rSwapDicts for each object i\n",
    "swapConts = {} ## set of cumSwaps for each object i\n",
    "for i in range(len(mediods)): ## objects i\n",
    "    med = mediods[i]\n",
    "    rSwapDict = {}; ## to contain the set of swapping contribution of j(s) on h\n",
    "    cumConts = {}; ## cumulative result of swapping contribution of j(s) on h\n",
    "    for wrd1, vec in distDict.iteritems():  ## objects h\n",
    "        swapObj = {}; ## to contain the contribution of j  \n",
    "        cumCont = 0; ## initialize counter, contributions of j on h\n",
    "        if (not wrd1 in mediods):\n",
    "            for wrd2, d in vec.iteritems(): ## objects j\n",
    "                if (not wrd2 in mediods):\n",
    "                    othObjs = [dist for key, dist in repDs[wrd2].iteritems() if key != med]\n",
    "                    sortObjs = sorted( othObjs );  scndClosest = sortObjs[1]\n",
    "                    closestObj = sortObjs[0]\n",
    "                    TFa = any( repDs[wrd2][med] > dist for dist in othObjs) and any(distDict[wrd2][wrd1] > dist for dist in othObjs)\n",
    "                    TFb = all( repDs[wrd2][med] <=  dist for dist in othObjs)  \n",
    "                    TFc = any(repDs[wrd2][med] > dist for dist in othObjs) and all(distDict[wrd2][wrd1] < dist for key, dist in repDs[wrd2].iteritems())  \n",
    "                    if ( TFa == True): ## a\n",
    "                        swap = 0\n",
    "                    if (TFb == True): ## b\n",
    "                        Dj = repDs[wrd2][med] ## closest representative object\n",
    "                        if (distDict[wrd2][wrd1] < scndClosest): ## b1\n",
    "                            swap = distDict[wrd2][wrd1] - Dj\n",
    "                        else: ## b2\n",
    "                            swap = scndClosest - Dj\n",
    "                    if (TFc == True): ## c \n",
    "                        swap = distDict[wrd2][wrd1] - closestObj\n",
    "                        #swap = distDict[wrd2][wrd1] - repDs[wrd2][med]   \n",
    "                    swapObj[wrd2] = swap; \n",
    "                    cumCont = cumCont + swap\n",
    "            rSwapDict[wrd1] = swapObj; \n",
    "            cumConts[wrd1] = cumCont\n",
    "    swapSet[med] = rSwapDict; swapConts[med] = cumConts\n",
    "print swapConts\n",
    "minPair = find3dObj(swapConts) ## find the object pair (i, h) with the minimum total result of swapping\n",
    "minR = minPair[2]\n",
    "print minPair[0], minPair[1], minR\n",
    "    #if (minR < 0): ### swap out representative objects\n",
    "     #   old = minPair[0]; new = minPair[1]\n",
    "      #  del repObj[old]\n",
    "       # repObj[new] = distDict[new]; \n",
    "        #return {'mediods':repObj, 'minR':minR, 'swCs':swapConts}\n",
    "#    else:\n",
    " #       return {'mediods':repObj, 'minR':minR, 'swCs':swapConts}\n",
    "\n",
    "\n",
    "\n",
    "\n",
    "\n"
   ]
  },
  {
   "cell_type": "code",
   "execution_count": null,
   "metadata": {
    "collapsed": true
   },
   "outputs": [],
   "source": [
    "if (minR < 0): ### swap out representative objects\n",
    "    old = minPair[0]; new = minPair[1]\n",
    "    del repObj[old]\n",
    "    repObj[new] = distDict[new]; \n",
    "    print repObj\n",
    "else:\n",
    "    print repObj"
   ]
  },
  {
   "cell_type": "code",
   "execution_count": null,
   "metadata": {
    "collapsed": true
   },
   "outputs": [],
   "source": [
    "## copy new approach\n",
    "\n",
    "## Consider swapping objects i for h, where i is the set of k representative objects,\n",
    "## and h consists of the remaining p-k unselected objects.\n",
    "## Determine the result of swapping out i for h on the initial clustering of j(s), where \n",
    "## j include the p-k unselected objects\n",
    "\n",
    "#def swap(distDist, repObj):\n",
    "repDs = structure(distDict,repObj)\n",
    "mediods = repObj.keys(); r = len(mediods)\n",
    "swapSet = {}; ## to contain the set of rSwapDicts for each object i\n",
    "swapConts = {} ## set of cumSwaps for each object i\n",
    "for i in range(len(mediods)): ## objects i\n",
    "    med = mediods[i]\n",
    "    rSwapDict = {}; ## to contain the set of swapping contribution of j(s) on h\n",
    "    cumConts = {}; ## cumulative result of swapping contribution of j(s) on h\n",
    "    for wrd1, vec in distDict.iteritems():  ## objects h\n",
    "        swapObj = {}; ## to contain the contribution of j  \n",
    "        cumCont = 0; ## initialize counter, contributions of j on h\n",
    "        if (not wrd1 in mediods):\n",
    "            for wrd2, d in vec.iteritems(): ## objects j\n",
    "                if (not wrd2 in mediods):\n",
    "                    othObjs = [dist for key, dist in repDs[wrd2].iteritems() if key != med]\n",
    "                    sortObjs = sorted( othObjs );  scndClosest = sortObjs[1]\n",
    "                    closestObj = sortObjs[0]\n",
    "                    TFa = any( repDs[wrd2][med] > dist for dist in othObjs) and any(distDict[wrd2][wrd1] > dist for dist in othObjs)\n",
    "                    TFb = all( repDs[wrd2][med] <=  dist for dist in othObjs)  \n",
    "                    TFc = any(repDs[wrd2][med] > dist for dist in othObjs) and all(distDict[wrd2][wrd1] < dist for key, dist in repDs[wrd2].iteritems())  \n",
    "                    if ( TFa == True): ## a\n",
    "                        swap = 0\n",
    "                    if (TFb == True): ## b\n",
    "                        Dj = repDs[wrd2][med] ## closest representative object\n",
    "                        if (distDict[wrd2][wrd1] < scndClosest): ## b1\n",
    "                            swap = distDict[wrd2][wrd1] - Dj\n",
    "                        else: ## b2\n",
    "                            swap = scndClosest - Dj\n",
    "                    if (TFc == True): ## c \n",
    "                        swap = distDict[wrd2][wrd1] - closestObj\n",
    "                        #swap = distDict[wrd2][wrd1] - repDs[wrd2][med]   \n",
    "                    swapObj[wrd2] = swap; \n",
    "                    cumCont = cumCont + swap\n",
    "            rSwapDict[wrd1] = swapObj; \n",
    "            cumConts[wrd1] = cumCont\n",
    "    swapSet[med] = rSwapDict; swapConts[med] = cumConts\n",
    "print swapConts\n",
    "minPair = find3dObj(swapConts) ## find the object pair (i, h) with the minimum total result of swapping\n",
    "minR = minPair[2]\n",
    "print minPair[0], minPair[1], minR\n",
    "    #if (minR < 0): ### swap out representative objects\n",
    "     #   old = minPair[0]; new = minPair[1]\n",
    "      #  del repObj[old]\n",
    "       # repObj[new] = distDict[new]; \n",
    "        #return {'mediods':repObj, 'minR':minR, 'swCs':swapConts}\n",
    "#    else:\n",
    " #       return {'mediods':repObj, 'minR':minR, 'swCs':swapConts}\n",
    "\n",
    "\n",
    "\n",
    "\n",
    "\n"
   ]
  },
  {
   "cell_type": "code",
   "execution_count": null,
   "metadata": {
    "collapsed": true
   },
   "outputs": [],
   "source": [
    "if (minR < 0): ### swap out representative objects\n",
    "    old = minPair[0]; new = minPair[1]\n",
    "    del repObj[old]\n",
    "    repObj[new] = distDict[new]; \n",
    "    print repObj\n",
    "else:\n",
    "    print repObj"
   ]
  },
  {
   "cell_type": "code",
   "execution_count": null,
   "metadata": {
    "collapsed": true
   },
   "outputs": [],
   "source": [
    "## copy new approach\n",
    "\n",
    "## Consider swapping objects i for h, where i is the set of k representative objects,\n",
    "## and h consists of the remaining p-k unselected objects.\n",
    "## Determine the result of swapping out i for h on the initial clustering of j(s), where \n",
    "## j include the p-k unselected objects\n",
    "\n",
    "#def swap(distDist, repObj):\n",
    "repDs = structure(distDict,repObj)\n",
    "mediods = repObj.keys(); r = len(mediods)\n",
    "swapSet = {}; ## to contain the set of rSwapDicts for each object i\n",
    "swapConts = {} ## set of cumSwaps for each object i\n",
    "for i in range(len(mediods)): ## objects i\n",
    "    med = mediods[i]\n",
    "    rSwapDict = {}; ## to contain the set of swapping contribution of j(s) on h\n",
    "    cumConts = {}; ## cumulative result of swapping contribution of j(s) on h\n",
    "    for wrd1, vec in distDict.iteritems():  ## objects h\n",
    "        swapObj = {}; ## to contain the contribution of j  \n",
    "        cumCont = 0; ## initialize counter, contributions of j on h\n",
    "        if (not wrd1 in mediods):\n",
    "            for wrd2, d in vec.iteritems(): ## objects j\n",
    "                if (not wrd2 in mediods):\n",
    "                    othObjs = [dist for key, dist in repDs[wrd2].iteritems() if key != med]\n",
    "                    sortObjs = sorted( othObjs );  scndClosest = sortObjs[1]\n",
    "                    closestObj = sortObjs[0]\n",
    "                    TFa = any( repDs[wrd2][med] > dist for dist in othObjs) and any(distDict[wrd2][wrd1] > dist for dist in othObjs)\n",
    "                    TFb = all( repDs[wrd2][med] <=  dist for dist in othObjs)  \n",
    "                    TFc = any(repDs[wrd2][med] > dist for dist in othObjs) and all(distDict[wrd2][wrd1] < dist for key, dist in repDs[wrd2].iteritems())  \n",
    "                    if ( TFa == True): ## a\n",
    "                        swap = 0\n",
    "                    if (TFb == True): ## b\n",
    "                        Dj = repDs[wrd2][med] ## closest representative object\n",
    "                        if (distDict[wrd2][wrd1] < scndClosest): ## b1\n",
    "                            swap = distDict[wrd2][wrd1] - Dj\n",
    "                        else: ## b2\n",
    "                            swap = scndClosest - Dj\n",
    "                    if (TFc == True): ## c \n",
    "                        swap = distDict[wrd2][wrd1] - closestObj\n",
    "                        #swap = distDict[wrd2][wrd1] - repDs[wrd2][med]   \n",
    "                    swapObj[wrd2] = swap; \n",
    "                    cumCont = cumCont + swap\n",
    "            rSwapDict[wrd1] = swapObj; \n",
    "            cumConts[wrd1] = cumCont\n",
    "    swapSet[med] = rSwapDict; swapConts[med] = cumConts\n",
    "print swapConts\n",
    "minPair = find3dObj(swapConts) ## find the object pair (i, h) with the minimum total result of swapping\n",
    "minR = minPair[2]\n",
    "print minPair[0], minPair[1], minR\n",
    "    #if (minR < 0): ### swap out representative objects\n",
    "     #   old = minPair[0]; new = minPair[1]\n",
    "      #  del repObj[old]\n",
    "       # repObj[new] = distDict[new]; \n",
    "        #return {'mediods':repObj, 'minR':minR, 'swCs':swapConts}\n",
    "#    else:\n",
    " #       return {'mediods':repObj, 'minR':minR, 'swCs':swapConts}\n",
    "\n",
    "\n",
    "\n",
    "\n",
    "\n",
    "\n"
   ]
  },
  {
   "cell_type": "code",
   "execution_count": null,
   "metadata": {
    "collapsed": true
   },
   "outputs": [],
   "source": [
    "if (minR < 0): ### swap out representative objects\n",
    "    old = minPair[0]; new = minPair[1]\n",
    "    del repObj[old]\n",
    "    repObj[new] = distDict[new]; \n",
    "    print repObj\n",
    "else:\n",
    "    print repObj"
   ]
  },
  {
   "cell_type": "code",
   "execution_count": null,
   "metadata": {
    "collapsed": true
   },
   "outputs": [],
   "source": [
    "## new form\n",
    "def optimizeClusters(distDict,repObjects, minResult):\n",
    "    minR = minResult\n",
    "    while( minR < 0 ):\n",
    "        results = swap(distDict,repObjects)\n",
    "        repObj = results['mediods']; minR = results['minR']\n",
    "    return repObj\n",
    "    "
   ]
  },
  {
   "cell_type": "code",
   "execution_count": null,
   "metadata": {
    "collapsed": true
   },
   "outputs": [],
   "source": [
    "## Consider swapping objects i for h, where i is the set of k representative objects,\n",
    "## and h consists of the remaining p-k unselected objects.\n",
    "## Determine the result of swapping out i for h on the initial clustering of j(s), where \n",
    "## j include the p-k unselected objects\n",
    "\n",
    "def swap(distDist, repObj):\n",
    "    repDs = structure(distDict,repObj)\n",
    "    mediods = repObj.keys()\n",
    "    swapSet = {}; ## to contain the set of rSwapDicts for each object i\n",
    "    swapConts = {} ## set of cumSwaps for each object i\n",
    "    for i in range(len(mediods)): ## objects i\n",
    "        med = mediods[i]\n",
    "        rSwapDict = {}; ## to contain the set of swapping contribution of j(s) on h\n",
    "        cumConts = {}; ## cumulative result of swapping contribution of j(s) on h\n",
    "        for wrd1, vec in distDict.iteritems():  ## objects h\n",
    "            swapObj = {}; ## to contain the contribution of j  \n",
    "            cumCont = 0; ## initialize counter, contributions of j on h\n",
    "            if (not wrd1 in mediods):\n",
    "                for wrd2, d in vec.iteritems(): ## objects j\n",
    "                    if (not wrd2 in mediods):\n",
    "                        TF = [repDs[wrd2][med] >  value for key, value in repDs[wrd2].iteritems()]\n",
    "                        othObjs = [value for key, value in repDs[wrd2].iteritems() if key != med]\n",
    "                        minVal = min(othObjs)\n",
    "                        if ( any( [ TF[i] == True for i in range( len(TF) ) ] ) ):\n",
    "                            tf = [distDict[wrd2][wrd1] < value for key, value in repDs[wrd2].iteritems()]\n",
    "                            if ( all( [ tf[i] == True for i in range( len(tf) ) ] ) ):\n",
    "                                swap = distDict[wrd2][wrd1] - minVal\n",
    "                            else:    \n",
    "                                swap = 0\n",
    "                        else:\n",
    "                            if (distDict[wrd2][wrd1] < minVal):\n",
    "                                swap = distDict[wrd2][wrd1] - repDs[wrd2][med]\n",
    "                            else:\n",
    "                                swap = minVal - repDs[wrd2][med]        \n",
    "                        swapObj[wrd2] = swap; \n",
    "                        cumCont = cumCont + swap\n",
    "                rSwapDict[wrd1] = swapObj; \n",
    "                cumConts[wrd1] = cumCont\n",
    "        swapSet[med] = rSwapDict; swapConts[med] = cumConts\n",
    "    minPair = find3dObj(swapConts) ## find the object pair (i, h) with the minimum total result of swapping\n",
    "    minR = minPair[2]\n",
    "    if (minR < 0): ### swap out representative objects\n",
    "        old = minPair[0]; new = minPair[1]\n",
    "        del repObj[old]\n",
    "        repObj[new] = distDict[new]; \n",
    "        return {'mediods':repObj, 'minR':minR}\n",
    "    else:\n",
    "        return {'mediods':repObj, 'minR':minR}\n",
    "\n",
    "\n"
   ]
  },
  {
   "cell_type": "code",
   "execution_count": null,
   "metadata": {
    "collapsed": true
   },
   "outputs": [],
   "source": [
    "distDict['ZAI']"
   ]
  },
  {
   "cell_type": "code",
   "execution_count": null,
   "metadata": {
    "collapsed": true
   },
   "outputs": [],
   "source": [
    "wrd2 = 'YUG'## j\n",
    "wrd1 = 'USS' ## h\n",
    "mediods = repObj.keys()\n",
    "med = 'BEL' # i"
   ]
  },
  {
   "cell_type": "code",
   "execution_count": null,
   "metadata": {
    "collapsed": true
   },
   "outputs": [],
   "source": [
    "repDs = structure(distDict,repObj)\n",
    "#otherObjs = [.5,2,1]\n",
    "othObjs = [value for key, value in repDs[wrd2].iteritems() if key != med]\n",
    "sortObjs = sorted( repDs[wrd2].values() )\n",
    "scndClosest = sortObjs[1]\n",
    "minVal = sortObjs[0]\n",
    "\n",
    "print 'dist(%s,%s)' % (wrd2,med), repDs[wrd2][med], 'dist(%s,%s)' % (wrd2,wrd1),distDict[wrd2][wrd1]\n",
    "print 'dist(%s,%s)' % (wrd2,'CUB'), repDs[wrd2]['CUB']\n",
    "print 'dist(%s,%s)' % (wrd2,'ZAI'), repDs[wrd2]['ZAI']\n",
    "#print 'dist(%s,%s)' % (wrd2,wrd1), distDict[wrd2][wrd1]\n",
    "print 'Other representative objects', othObjs\n",
    "print 'All representative objects', repDs[wrd2].values()\n",
    "print 'Sorted', sortObjs\n",
    "print repDs[wrd2]\n",
    "print 'Second closest object', sortObjs[1]\n",
    "print 'Closest representative object', minVal\n",
    "#print othObjs\n",
    "\n",
    "#sorted(otherObjs)\n",
    "#othObjs = [value for key, value in repDs[wrd2].iteritems() if key != med]"
   ]
  },
  {
   "cell_type": "code",
   "execution_count": null,
   "metadata": {
    "collapsed": true
   },
   "outputs": [],
   "source": [
    "print 0 # a\n",
    "print distDict[wrd2][wrd1] - repDs[wrd2][med] # b1\n",
    "print scndClosest - repDs[wrd2][med]   # b2\n",
    "print distDict[wrd2][wrd1] - minVal  #c"
   ]
  },
  {
   "cell_type": "code",
   "execution_count": null,
   "metadata": {
    "collapsed": true
   },
   "outputs": [],
   "source": [
    "print repDs[wrd2][med], distDict[wrd2][wrd1]\n",
    "print othObjs\n",
    "TFa1 = [repDs[wrd2][med] >  dist for dist in othObjs]\n",
    "TFa2 = [distDict[wrd2][wrd1] > dist for dist in othObjs]\n",
    "TFa = [( repDs[wrd2][med] > dist) and (distDict[wrd2][wrd1] > dist) for dist in othObjs]\n",
    "print TFa1, TFa2, TFa"
   ]
  },
  {
   "cell_type": "code",
   "execution_count": null,
   "metadata": {
    "collapsed": true
   },
   "outputs": [],
   "source": [
    "print repDs[wrd2][med], distDict[wrd2][wrd1]\n",
    "print othObjs \n",
    "TFc1 = [ repDs[wrd2][med] > dist for dist in othObjs]  \n",
    "TFc2 = [distDict[wrd2][wrd1] < dist for dist in othObjs]\n",
    "print TFc1, TFc2"
   ]
  },
  {
   "cell_type": "code",
   "execution_count": null,
   "metadata": {
    "collapsed": true
   },
   "outputs": [],
   "source": [
    "results = swap(distDict,repObj)\n",
    "repObj = results['mediods']; minResult = results['minR']\n",
    "\n",
    "print repObj.keys(), minResult"
   ]
  },
  {
   "cell_type": "code",
   "execution_count": null,
   "metadata": {
    "collapsed": true
   },
   "outputs": [],
   "source": [
    "wrd2 = 'BRA'## j\n",
    "wrd1 = 'BRA' ## h\n",
    "mediods = repObj.keys()\n",
    "med = 'BEL' # i"
   ]
  },
  {
   "cell_type": "code",
   "execution_count": null,
   "metadata": {
    "collapsed": true
   },
   "outputs": [],
   "source": [
    "repDs = structure(distDict,repObj)\n",
    "#otherObjs = [.5,2,1]\n",
    "othObjs = [value for key, value in repDs[wrd2].iteritems() if key != med]\n",
    "sortObjs = sorted( repDs[wrd2].values() )\n",
    "scndClosest = sortObjs[1]"
   ]
  },
  {
   "cell_type": "code",
   "execution_count": null,
   "metadata": {
    "collapsed": true
   },
   "outputs": [],
   "source": [
    "TFa = any( repDs[wrd2][med] > dist for dist in othObjs) and any(distDict[wrd2][wrd1] > dist for dist in othObjs)\n",
    "if ( TFa == True): ## a\n",
    "    print 'C(%s,%s,%s) = 0' %(wrd2,med,wrd1)\n",
    "TFb = all( repDs[wrd2][med] <=  dist for dist in othObjs)  \n",
    "if (TFb == True): ## b\n",
    "    Dj = repDs[wrd2][med] ## closest representative object\n",
    "    if (distDict[wrd2][wrd1] < scndClosest): ## b1\n",
    "        print 'C(%s,%s,%s) = '%(wrd2,med,wrd1),distDict[wrd2][wrd1] - Dj\n",
    "    else:\n",
    "        print 'C(%s,%s,%s) = '%(wrd2,med,wrd1),scndClosest - Dj\n",
    "TFc = any(repDs[wrd2][med] > dist for dist in othObjs) and all(distDict[wrd2][wrd1] < dist for dist in othObjs)  \n",
    "#TFc2 = [distDict[wrd2][wrd1] < dist for dist in othObjs]\n",
    "#print TFc1, TFc2\n",
    "if (TFc == True):\n",
    "    print 'C(%s,%s,%s) = ' %(wrd2,med,wrd1), distDict[wrd2][wrd1] - repDs[wrd2][med] \n",
    "\n",
    "#if (any( [ TFc1[i] == True for i in range(len(TFc1) ) ] )):\n",
    " #   if ( all( [TFc2[i] == True for i in range(len(TFc2) ) ] ) ):\n",
    "        #print 'C(%s,%s,%s) = ' %(wrd2,med,wrd1), distDict[wrd2][wrd1] - repDs[wrd2][med] \n",
    "#if ( [ (any( TFc1[i] == True) and all(TFc2[i] == True) ) for i in range( len(TFc1) ) ] ):\n",
    " #   print 'C(%s,%s,%s) = ' %(wrd2,med,wrd1), distDict[wrd2][wrd1] - repDs[wrd2][med] "
   ]
  },
  {
   "cell_type": "code",
   "execution_count": null,
   "metadata": {
    "collapsed": true
   },
   "outputs": [],
   "source": [
    "#TFa = [ any( repDs[wrd2][med] > dist) and any(distDict[wrd2][wrd1] > dist) for dist in othObjs]\n",
    "TFa = any(repDs[wrd2][med] > dist for dist in othObjs) and any(distDict[wrd2][wrd1] > dist for dist in othObjs)\n",
    "#any(repDs[wrd2][med] > dist for dist in othObjs) and any(distDict[wrd2][wrd1] > dist for dist in othObjs)\n",
    "TFa"
   ]
  },
  {
   "cell_type": "code",
   "execution_count": null,
   "metadata": {
    "collapsed": true
   },
   "outputs": [],
   "source": [
    "TFa = [( repDs[wrd2][med] > dist) and (distDict[wrd2][wrd1] > dist) for dist in othObjs]\n",
    "if ( any( [ TFa[i] == True for i in range( len(TFa) ) ] ) ): ## a\n",
    "    print 'C(%s,%s,%s) = 0' %(wrd2,med,wrd1)\n",
    "TFb = [repDs[wrd2][med] <=  dist for dist in othObjs]  \n",
    "if( all( [TFb[i] == True for i in range( len(TFb) ) ] ) ): ## b\n",
    "    Dj = repDs[wrd2][med] ## closest representative object\n",
    "    if (distDict[wrd2][wrd1] < scndClosest): ## b1\n",
    "        print 'C(%s,%s,%s) = '%(wrd2,med,wrd1),distDict[wrd2][wrd1] - Dj\n",
    "    else:\n",
    "        print 'C(%s,%s,%s) = '%(wrd2,med,wrd1),scndClosest - Dj\n",
    "TFc1 = [ repDs[wrd2][med] > dist for dist in othObjs]  \n",
    "TFc2 = [distDict[wrd2][wrd1] < dist for dist in othObjs]\n",
    "print TFc1, TFc2\n",
    "if (any( [ TFc1[i] == True for i in range(len(TFc1) ) ] )):\n",
    "    if ( all( [TFc2[i] == True for i in range(len(TFc2) ) ] ) ):\n",
    "        print 'C(%s,%s,%s) = ' %(wrd2,med,wrd1), distDict[wrd2][wrd1] - repDs[wrd2][med] \n",
    "#if ( [ (any( TFc1[i] == True) and all(TFc2[i] == True) ) for i in range( len(TFc1) ) ] ):\n",
    " #   print 'C(%s,%s,%s) = ' %(wrd2,med,wrd1), distDict[wrd2][wrd1] - repDs[wrd2][med] "
   ]
  },
  {
   "cell_type": "code",
   "execution_count": null,
   "metadata": {
    "collapsed": true
   },
   "outputs": [],
   "source": [
    "## copy original\n",
    "\n",
    "## Consider swapping objects i for h, where i is the set of k representative objects,\n",
    "## and h consists of the remaining p-k unselected objects.\n",
    "## Determine the result of swapping out i for h on the initial clustering of j(s), where \n",
    "## j include the p-k unselected objects\n",
    "\n",
    "def swap(distDist, repObj):\n",
    "    repDs = structure(distDict,repObj)\n",
    "    mediods = repObj.keys(); r = len(mediods)\n",
    "    swapSet = {}; ## to contain the set of rSwapDicts for each object i\n",
    "    swapConts = {} ## set of cumSwaps for each object i\n",
    "    for i in range(len(mediods)): ## objects i\n",
    "        med = mediods[i]\n",
    "        rSwapDict = {}; ## to contain the set of swapping contribution of j(s) on h\n",
    "        cumConts = {}; ## cumulative result of swapping contribution of j(s) on h\n",
    "        for wrd1, vec in distDict.iteritems():  ## objects h\n",
    "            swapObj = {}; ## to contain the contribution of j  \n",
    "            cumCont = 0; ## initialize counter, contributions of j on h\n",
    "            if (not wrd1 in mediods):\n",
    "                for wrd2, d in vec.iteritems(): ## objects j\n",
    "                    if (not wrd2 in mediods):\n",
    "                        \n",
    "                        \n",
    "                        othObjs = [value for key, value in repDs[wrd2].iteritems() if key != med]\n",
    "                        #print othObjs\n",
    "                        sortObjs = sorted( repDs[wrd2].values() ); \n",
    "                        scndClosest = sortObjs[1]\n",
    "                        minVal = min(othObjs)\n",
    "                        TF = [repDs[wrd2][med] >  value for key, value in repDs[wrd2].iteritems()]\n",
    "                        ## if j is more distant from i = mediod[i], than from one of the other representative objects\n",
    "                        if ( any( [ TF[i] == True for i in range( len(TF) ) ] ) ):\n",
    "                            tf1 = [distDict[wrd2][wrd1] < value for key, value in repDs[wrd2].iteritems()]\n",
    "                            if ( all( [ tf1[i] == True for i in range( len(tf1) ) ] ) ):\n",
    "                                swap = distDict[wrd2][wrd1] - minVal\n",
    "                            tf2 = [distDict[wrd2][wrd1] > value for key, value in repDs[wrd2].iteritems()]\n",
    "                            ## if j is more distant from h than from one of the other representative objects\n",
    "                            if ( any( [tf2[i] == True for i in range( len(tf2) ) ] ) ):\n",
    "                            #else:    \n",
    "                                swap = 0\n",
    "                        if ( all( [ TF[i] == False for i in range( len(TF) ) ] ) ):\n",
    "                            #Dj = repDs[wrd2][med]\n",
    "                        #else:\n",
    "                            if (distDict[wrd2][wrd1] < scndClosest):\n",
    "                            #if (distDict[wrd2][wrd1] < minVal):\n",
    "                                swap = distDict[wrd2][wrd1] - repDs[wrd2][med]\n",
    "                            else:\n",
    "                                swap = scndClosest - repDs[wrd2][med]        \n",
    "                                   # swap = minVal - repDs[wrd2][med]        \n",
    "                        swapObj[wrd2] = swap; \n",
    "                        cumCont = cumCont + swap\n",
    "                rSwapDict[wrd1] = swapObj; \n",
    "                cumConts[wrd1] = cumCont\n",
    "        swapSet[med] = rSwapDict; swapConts[med] = cumConts\n",
    "    print swapConts\n",
    "    minPair = find3dObj(swapConts) ## find the object pair (i, h) with the minimum total result of swapping\n",
    "    minR = minPair[2]\n",
    "    if (minR < 0): ### swap out representative objects\n",
    "        old = minPair[0]; new = minPair[1]\n",
    "        del repObj[old]\n",
    "        repObj[new] = distDict[new]; \n",
    "        return {'mediods':repObj, 'minR':minR, 'swCs':swapConts}\n",
    "    else:\n",
    "        return {'mediods':repObj, 'minR':minR, 'swCs':swapConts}\n",
    "\n",
    "\n",
    "\n"
   ]
  },
  {
   "cell_type": "code",
   "execution_count": null,
   "metadata": {
    "collapsed": true
   },
   "outputs": [],
   "source": [
    "results = swap(distDict,repObj)\n"
   ]
  },
  {
   "cell_type": "code",
   "execution_count": null,
   "metadata": {
    "collapsed": true
   },
   "outputs": [],
   "source": [
    "results = swap(distDict,repObj)\n",
    "repObj = results['mediods']; minResult = results['minR']; swappers = results['swCs']\n",
    "\n",
    "meds1 = repObj.keys()\n",
    "print meds1, minResult"
   ]
  },
  {
   "cell_type": "code",
   "execution_count": null,
   "metadata": {
    "collapsed": true
   },
   "outputs": [],
   "source": [
    "results = swap(distDict,repObj)\n",
    "repObj = results['mediods']; minResult = results['minR']\n",
    "\n",
    "print repObj.keys(), minResult"
   ]
  },
  {
   "cell_type": "code",
   "execution_count": null,
   "metadata": {
    "collapsed": true
   },
   "outputs": [],
   "source": [
    "optimizeClusters(distDict,repObj,minResult)"
   ]
  },
  {
   "cell_type": "code",
   "execution_count": null,
   "metadata": {
    "collapsed": true
   },
   "outputs": [],
   "source": [
    "repObj.keys()"
   ]
  },
  {
   "cell_type": "code",
   "execution_count": null,
   "metadata": {
    "collapsed": true
   },
   "outputs": [],
   "source": [
    "## Consider swapping objects i for h, where i is the set of k representative objects,\n",
    "## and h consists of the remaining p-k unselected objects.\n",
    "## Determine the result of swapping out i for h on the initial clustering of j(s), where \n",
    "## j include the p-k unselected objects\n",
    "\n",
    "def swap(distDist, repObj):\n",
    "    #swapConts = initPairs(distDict,repObj)\n",
    "    #minI = findMin(swapConts)[2]\n",
    "    #minRswap = minPair[2]\n",
    "    repDs = structure(distDict,repObj)\n",
    "    mediods = repObj.keys()\n",
    "    swapSet = {}; ## to contain the set of rSwapDicts for each object i\n",
    "    swapConts = {} ## set of cumSwaps for each object i\n",
    "    for i in range(len(mediods)): ## objects i\n",
    "        med = mediods[i]\n",
    "        rSwapDict = {}; ## to contain the set of swapping contribution of j(s) on h\n",
    "        cumConts = {}; ## cumulative result of swapping contribution of j(s) on h\n",
    "        for wrd1, vec in distDict.iteritems():  ## objects h\n",
    "            swapObj = {}; ## to contain the contribution of j  \n",
    "            cumCont = 0; ## initialize counter, contributions of j on h\n",
    "            if (not wrd1 in mediods):\n",
    "                for wrd2, d in vec.iteritems():\n",
    "                    if (not wrd2 in mediods):\n",
    "                        TF = [repDs[wrd2][med] >  value for key, value in repDs[wrd2].iteritems()]\n",
    "                        #TF = [repDs[wrd2][mediods[i]] >  value for key, value in repDs[wrd2].iteritems()]\n",
    "                        othObjs = [value for key, value in repDs[wrd2].iteritems() if key != med]\n",
    "                        minVal = min(othObjs)\n",
    "                        if ( any( [ TF[i] == True for i in range( len(TF) ) ] ) ):\n",
    "                            tf = [distDict[wrd2][wrd1] < value for key, value in repDs[wrd2].iteritems()]\n",
    "                            if ( all( [ tf[i] == True for i in range( len(tf) ) ] ) ):\n",
    "                                swap = distDict[wrd2][wrd1] - minVal\n",
    "                            else:\n",
    "                                swap = 0\n",
    "                        else:\n",
    "                            if (distDict[wrd2][wrd1] < minVal):\n",
    "                                swap = distDict[wrd2][wrd1] - repDs[wrd2][med]\n",
    "                            else:\n",
    "                                swap = minVal - repDs[wrd2][med]        \n",
    "                        swapObj[wrd2] = swap; \n",
    "                        cumCont = cumCont + swap\n",
    "                rSwapDict[wrd1] = swapObj; \n",
    "                cumConts[wrd1] = cumCont\n",
    "        swapSet[med] = rSwapDict; swapConts[med] = cumConts\n",
    "    #inverse = [ (i,h,TotalSwap) for i, swSet in swapConts.items() for h, TotalSwap in swSet.items()]\n",
    "    #minPair = min(inverse, key = lambda k:k[2]); minRswap = minPair[2]\n",
    "    minPair = findMin(swapConts)\n",
    "    minR = minPair[2]\n",
    "    if (minR < 0): ### swap out representative objects\n",
    "        old = minPair[0]; new = minPair[1]\n",
    "        del repObj[old]\n",
    "        repObj[new] = distDict[new]; \n",
    "        return {'mediods':repObj, 'minR':minR}\n",
    "    else:\n",
    "        return {'mediods':repObj, 'minR':minR}\n",
    "\n"
   ]
  },
  {
   "cell_type": "code",
   "execution_count": null,
   "metadata": {
    "collapsed": true
   },
   "outputs": [],
   "source": [
    "mM = 0 \n",
    "repObj = {}; cumDs = {}\n",
    "for wrd1, vec in distDict.iteritems():\n",
    "    sumDs = 0 \n",
    "    for wrd2, d in vec.iteritems():\n",
    "        sumDs = sumDs + d\n",
    "    cumDs[wrd1] = sumDs   \n",
    "inverse = [(value, key) for key, value in cumDs.items()]\n",
    "if (mM == 0):\n",
    "    selected = min(inverse)[1]  ## representative object ~ mediod\n",
    "if (mM == 1):\n",
    "    selected = max(inverse)[1]   ## representative object\n",
    "if ( (mM != 0) and (mM != 1) ):\n",
    "    selected = 'NA'\n",
    "\n",
    "print selected\n"
   ]
  },
  {
   "cell_type": "code",
   "execution_count": null,
   "metadata": {
    "collapsed": true
   },
   "outputs": [],
   "source": [
    "## Function for selecting k representative objects from a set of p distinct objects.\n",
    "    ## Input is in the form of a dissimilarity matrix [p x p], and integer k.\n",
    "\n",
    "def selectObjects(distDict, k):\n",
    "    \n",
    "    #### Intialize clustering by selecting the first representative object,\n",
    "    ### an object with minimum cumulative distance from all other objects.\n",
    "    \n",
    "    repObj = {}; cumDs = {}\n",
    "    for wrd1, vec in distDict.iteritems():\n",
    "        sumDs = 0 \n",
    "        for wrd2, d in vec.iteritems():\n",
    "           sumDs = sumDs + d\n",
    "        cumDs[wrd1] = sumDs        \n",
    "    inverse = [(value, key) for key, value in cumDs.items()]\n",
    "    selected = min(inverse)[1]  ## representative object ~ mediod\n",
    "    repObj[selected] = distDict[selected]\n",
    "    \n",
    "    r = 1 ## the first representative object is found\n",
    "    \n",
    "    while r < k:\n",
    "        contDict = {}; cumConts = {}; mediods = repObj.keys()\n",
    "        for wrd1, vec in distDict.iteritems():  ### objects i\n",
    "            contRow = {}; cumCont = 0\n",
    "            for wrd2, d in vec.iteritems(): ### objects j\n",
    "                if (not wrd1 in mediods) & (not wrd2 in mediods):\n",
    "                    if( r > 1): ## select the 3rd and beyond representative objects i_r\n",
    "                        for i in range(1,len(mediods)): ### representative objects i_r\n",
    "                            ## determine max{D_j - d(j,i), 0}, where D_j = min(d(j,i_r))\n",
    "                            ## where j = wrd2, i = wrd1, i_r = mediods[1:r]\n",
    "                            if (repObj[mediods[i-1]][wrd2] < repObj[mediods[i]][wrd2]):\n",
    "                                store = max(repObj[mediods[i-1]][wrd2] - distDict[wrd2][wrd1], 0)\n",
    "                            else:\n",
    "                                store = max(repObj[mediods[i]][wrd2] - distDict[wrd2][wrd1], 0)          \n",
    "                    else: ## select the 2nd representative object\n",
    "                        store = max(repObj[mediods[0]][wrd2] - distDict[wrd2][wrd1], 0)\n",
    "                    contRow[wrd2] = store; cumCont = cumCont + store\n",
    "            if (not wrd1 in mediods):\n",
    "                contDict[wrd1] = contRow; cumConts[wrd1] = cumCont      \n",
    "        inverse = [(value, key) for key, value in cumConts.items()]\n",
    "        selected = max(inverse)[1]   ## representative object\n",
    "        repObj[selected] = distDict[selected]; \n",
    "        r = r + 1 # r is incremented as representative objects are found\n",
    "    return repObj"
   ]
  },
  {
   "cell_type": "code",
   "execution_count": null,
   "metadata": {
    "collapsed": true
   },
   "outputs": [],
   "source": [
    "distDict = createDict(dMat)\n",
    "distDict['ZAI']"
   ]
  },
  {
   "cell_type": "code",
   "execution_count": null,
   "metadata": {
    "collapsed": true
   },
   "outputs": [],
   "source": [
    "distDict = {}\n",
    "for i in range(1,len(names)):\n",
    "    wrdDict = {}\n",
    "    wrd1 = names[i] # select object i \n",
    "    for j in range(1,len(names)):\n",
    "        wrd2 = names[j] # select object j\n",
    "        wrdDict[wrd2] = dMat[i][j]\n",
    "    distDict[wrd1] = wrdDict"
   ]
  },
  {
   "cell_type": "code",
   "execution_count": null,
   "metadata": {
    "collapsed": true
   },
   "outputs": [],
   "source": [
    "results = swap(distDict,repObj)\n",
    "repObj = results['mediods']; minResult = results['minR']\n",
    "print repObj.keys(), minResult"
   ]
  },
  {
   "cell_type": "code",
   "execution_count": null,
   "metadata": {
    "collapsed": true
   },
   "outputs": [],
   "source": [
    "results = swap(distDict,repObj)\n",
    "repObj = results['mediods']; minResult = results['minR']\n",
    "print repObj.keys(), minResult"
   ]
  },
  {
   "cell_type": "code",
   "execution_count": null,
   "metadata": {
    "collapsed": true
   },
   "outputs": [],
   "source": [
    "repObj.keys()"
   ]
  },
  {
   "cell_type": "code",
   "execution_count": null,
   "metadata": {
    "collapsed": true
   },
   "outputs": [],
   "source": [
    "repDs = structure(distDict,repObj)\n",
    "swapConts = initPairs(distDict,repObj)"
   ]
  },
  {
   "cell_type": "code",
   "execution_count": null,
   "metadata": {
    "collapsed": true
   },
   "outputs": [],
   "source": [
    "swapConts\n",
    "inverse = {}\n",
    "for i, swSet in swapConts.iteritems():\n",
    "    inverse = [(i,h, TotalSwap) for h, TotalSwap in swSet.items()]\n",
    "selected = min(inverse)[2]    \n",
    "inverse = [ (i,h,TotalSwap) for i, swSet in swapConts.items() for h, TotalSwap in swSet.items()]\n",
    "#inverse = [(value, key) for key, value in swapConts.items()]\n",
    "#selected = min(inverse)[1]   ## repres"
   ]
  },
  {
   "cell_type": "code",
   "execution_count": null,
   "metadata": {
    "collapsed": true
   },
   "outputs": [],
   "source": [
    "inverse = [ (i,h,TotalSwap) for i, swSet in swapConts.items() for h, TotalSwap in swSet.items()]\n",
    "#min(inverse, key = lambda k:k[2])\n",
    "minPair = min(inverse, key = lambda k:k[2]); minRswap = minPair[2]\n",
    "if (minRswap < 0): ### swap out representative objects\n",
    "    old = minPair[0]; new = minPair[1]\n",
    "    del repObj[old]\n",
    "    repObj[new] = distDict[new]; \n",
    "    \n",
    "print repObj.keys()\n",
    "mediods = repObj.keys()"
   ]
  },
  {
   "cell_type": "code",
   "execution_count": null,
   "metadata": {
    "collapsed": true
   },
   "outputs": [],
   "source": [
    "mediods = repObj.keys()"
   ]
  },
  {
   "cell_type": "code",
   "execution_count": null,
   "metadata": {
    "collapsed": true
   },
   "outputs": [],
   "source": [
    "mediods"
   ]
  },
  {
   "cell_type": "code",
   "execution_count": null,
   "metadata": {
    "collapsed": true
   },
   "outputs": [],
   "source": [
    "swapSet1 = {}\n",
    "swapSet1[mediods[0]] = 1; swapSet1[mediods[1]] = 1; swapSet1[mediods[2]] = 1;\n",
    "print swapSet1\n",
    "del swapSet1['BEL']\n",
    "print swapSet1"
   ]
  },
  {
   "cell_type": "code",
   "execution_count": null,
   "metadata": {
    "collapsed": true
   },
   "outputs": [],
   "source": [
    "## Consider swapping objects i for h, where i is the set of representative objects,\n",
    "## and h consists of all remaining unselected objects.\n",
    "## Determine the result of swapping out i for h on the initial clustering of objects j\n",
    "## where j consists of unselected objects\n",
    "\n",
    "#swapSet = {}; swapConts = {}\n",
    "for i in range(len(mediods)): ## objects i\n",
    "    rSwapDict = {}; ## to contain the set of contributions by j on h\n",
    "    cumConts = {}; \n",
    "    for wrd1, vec in distDict.iteritems(): ### objects h\n",
    "        swapObj = {}; ## to contain the contribution of j  \n",
    "        cumCont = 0\n",
    "        if (not wrd1 in mediods):\n",
    "            for wrd2, d in vec.iteritems(): ### objects j\n",
    "                if (not wrd2 in mediods):\n",
    "                    TF = [repDs[wrd2][mediods[i]] >  value for key, value in repDs[wrd2].iteritems()]\n",
    "                    othObjs = [value for key, value in repDs[wrd2].iteritems() if key != mediods[i]]\n",
    "                    minVal = min(othObjs)\n",
    "                    if ( any( [ TF[i] == True for i in range( len(TF) ) ] ) ):\n",
    "                        tf = [distDict[wrd2][wrd1] < value for key, value in repDs[wrd2].iteritems()]\n",
    "                        if ( all( [ tf[i] == True for i in range( len(tf) ) ] ) ):\n",
    "                            swap = distDict[wrd2][wrd1] - minVal\n",
    "                        else:\n",
    "                            swap = 0\n",
    "                    else:\n",
    "                        if (distDict[wrd2][wrd1] < minVal):\n",
    "                            swap = distDict[wrd2][wrd1] - repDs[wrd2][mediods[i]]\n",
    "                        else:\n",
    "                            swap = minVal - repDs[wrd2][mediods[i]]\n",
    "                    swapObj[wrd2] = swap; cumCont = cumCont + swap\n",
    "            rSwapDict[wrd1] = swapObj; cumConts[wrd1] = cumCont\n",
    "    swapSet[mediods[i]] = rSwapDict; swapConts[mediods[i]] = cumConts\n"
   ]
  },
  {
   "cell_type": "code",
   "execution_count": null,
   "metadata": {
    "collapsed": true
   },
   "outputs": [],
   "source": [
    "swapConts"
   ]
  },
  {
   "cell_type": "code",
   "execution_count": null,
   "metadata": {
    "collapsed": true
   },
   "outputs": [],
   "source": []
  },
  {
   "cell_type": "code",
   "execution_count": null,
   "metadata": {
    "collapsed": true
   },
   "outputs": [],
   "source": [
    "#wrd1 = 'BRA'\n",
    "#wrd2 = 'CHI'\n",
    "vec = distDict['BRA']\n",
    "j = 2\n",
    "\n",
    "print mediods[j]"
   ]
  },
  {
   "cell_type": "code",
   "execution_count": null,
   "metadata": {
    "collapsed": true
   },
   "outputs": [],
   "source": [
    "swapSet = {}\n",
    "rSwapDict = {}; ## to contain the set of contributions by j on h\n",
    "cumConts = {}; \n",
    "\n",
    "swapObj = {}; ## to contain the contribution of j  \n",
    "cumCont = 0\n",
    "\n",
    "for wrd2, d in vec.iteritems(): ### objects j\n",
    "    if (not wrd2 in mediods):\n",
    "        TF = [repDs[wrd2][mediods[j]] >  value for key, value in repDs[wrd2].iteritems()]\n",
    "        othObjs = [value for key, value in repDs[wrd2].iteritems() if key != mediods[j]]\n",
    "        minVal = min(othObjs)\n",
    "        if ( any( [ TF[i] == True for i in range( len(TF) ) ] ) ):\n",
    "            tf = [distDict[wrd2][wrd1] < value for key, value in repDs[wrd2].iteritems()]\n",
    "            if ( all( [ tf[i] == True for i in range( len(tf) ) ] ) ):\n",
    "                swapObj[wrd2] = distDict[wrd2][wrd1] - minVal\n",
    "            else:\n",
    "                swapObj[wrd2] = 0\n",
    "        else:\n",
    "            if (distDict[wrd2][wrd1] < minVal):\n",
    "                swapObj[wrd2] = distDict[wrd2][wrd1] - repDs[wrd2][mediods[j]]\n",
    "            else:\n",
    "                swapObj[wrd2] = minVal - repDs[wrd2][mediods[j]]\n",
    "    rSwapDict[wrd1] = swapObj\n",
    "swapSet[mediods[j]] = rSwapDict\n"
   ]
  },
  {
   "cell_type": "code",
   "execution_count": null,
   "metadata": {
    "collapsed": true
   },
   "outputs": [],
   "source": [
    "swapSet"
   ]
  },
  {
   "cell_type": "code",
   "execution_count": null,
   "metadata": {
    "collapsed": true
   },
   "outputs": [],
   "source": [
    "wrd2 = 'EGY'\n",
    "print \"dist(%s,%s) = \" % (wrd2,wrd1), distDict[wrd2][wrd1]\n",
    "print repDs[wrd2]\n",
    "print mediods[i]\n",
    "print repDs[wrd2][mediods[i]]\n",
    "TF = [repDs[wrd2][mediods[i]] >  value for key, value in repDs[wrd2].iteritems()]\n",
    "print TFr\n",
    "\n",
    "\n",
    "print any ( [TF[i] == True for i in range(len(TF))])\n",
    "#print distDict[wrd2][wrd1] < repDs[wrd2].values()\n",
    "print distDict[wrd2][wrd1] - min(repDs[wrd2].values())\n",
    "print distDict[wrd2][wrd1] - repDs[wrd2][mediods[i]]\n",
    "print min(repDs[wrd2].values()) - repDs[wrd2][mediods[i]]"
   ]
  },
  {
   "cell_type": "code",
   "execution_count": null,
   "metadata": {
    "collapsed": true
   },
   "outputs": [],
   "source": []
  },
  {
   "cell_type": "code",
   "execution_count": null,
   "metadata": {
    "collapsed": true
   },
   "outputs": [],
   "source": [
    "wrd2 = 'CHI'\n",
    "print mediods[i], wrd1, wrd2\n",
    "TF = [repDs[wrd2][mediods[i]] >  value for key, value in repDs[wrd2].iteritems()]\n",
    "print TF\n",
    "any( [ TF[i] == True for i in range( len(TF) ) ] )"
   ]
  },
  {
   "cell_type": "code",
   "execution_count": null,
   "metadata": {
    "collapsed": true
   },
   "outputs": [],
   "source": [
    "print mediods[i], wrd1, wrd2\n",
    "tf = [distDict[wrd2][wrd1] < value for key, value in repDs[wrd2].iteritems()]\n",
    "print tf\n",
    "print all( tf[i] == True for i in range(len(tf)))"
   ]
  },
  {
   "cell_type": "code",
   "execution_count": null,
   "metadata": {
    "collapsed": true
   },
   "outputs": [],
   "source": [
    "print mediods[j], wrd1, wrd2\n",
    "print distDict[wrd2][wrd1]\n",
    "\n",
    "\n",
    "stuff = [value for key, value in repDs[wrd2].iteritems() if key != mediods[j]]\n",
    "print stuff\n",
    "print min(stuff)\n",
    "minVal = min(stuff)\n",
    "\n",
    "distDict[wrd2][wrd1] < minVal\n",
    "#print minVal\n",
    "#tf1 =[distDict[wrd2][wrd1] < value for key, value in repDs[wrd2].iteritems() if key != mediods[i]]\n",
    "#print tf1\n",
    "#print any( [ tf1[i] == True for i in range( len(tf1) ) ] )"
   ]
  },
  {
   "cell_type": "code",
   "execution_count": null,
   "metadata": {
    "collapsed": true
   },
   "outputs": [],
   "source": [
    "print mediods[i], wrd1, wrd2\n",
    "tf2 = [distDict[wrd2][wrd1] < value for key, value in repDs[wrd2].iteritems() if key != wrd2]\n",
    "print tf2"
   ]
  },
  {
   "cell_type": "code",
   "execution_count": null,
   "metadata": {
    "collapsed": true
   },
   "outputs": [],
   "source": [
    "mediods"
   ]
  },
  {
   "cell_type": "code",
   "execution_count": null,
   "metadata": {
    "collapsed": true
   },
   "outputs": [],
   "source": [
    "swapSet\n",
    "swapConts"
   ]
  },
  {
   "cell_type": "code",
   "execution_count": null,
   "metadata": {
    "collapsed": true
   },
   "outputs": [],
   "source": [
    " #  for wrd2, d in vec.iteritems(): ### objects j\n",
    "           #     if (not wrd2 in mediods):\n",
    "                    TF = [repDs[wrd2][mediods[i]] >  value for key, value in repDs[wrd2].iteritems()]\n",
    "                    if ( any ( [TF[i] == True for i in range(len(TF))])):\n",
    "                    #if (repDs[wrd2][mediods[i]] == max(repDs[wrd2].values()):\n",
    "                        if ( distDict[wrd2][wrd1] < repDs[wrd2].values() ):\n",
    "                            swapObj[wrd2] = distDict[wrd2][wrd1] - min(repDs[wrd2].values())\n",
    "                        else:\n",
    "                            swapObj[wrd2] = 0\n",
    "                    else:\n",
    "                        if (distDict[wrd2][wrd1] < min(repDs[wrd2].values())):\n",
    "                            swapObj[wrd2] = distDict[wrd2][wrd1] - repDs[wrd2][mediods[i]]\n",
    "                        else:\n",
    "                            swapObj[wrd2] = min(repDs[wrd2].values()) - repDs[wrd2][mediods[i]]\n",
    "                rSwapDict[wrd1] = swapObj\n",
    "\n",
    "    swapSet[mediods[i]] = rSwapDict\n",
    "                                                \n",
    "            \n",
    "                \n",
    "                #if (repObj[mediods[i]][wrd2] < )\n",
    "                \n",
    "\n",
    "\n",
    "    #if (not wrd1 in mediods):\n",
    "     #   rSwapDict[wrd1] = contRow; cumConts[wrd1] = cumCont\n",
    "\n",
    "\n",
    "\n",
    "\n"
   ]
  },
  {
   "cell_type": "code",
   "execution_count": null,
   "metadata": {
    "collapsed": true
   },
   "outputs": [],
   "source": [
    "TF = [repDs['BRA'][mediods[0]] >  value for key, value in repDs['BRA'].iteritems()]\n",
    "print TF\n",
    "if ( any ( [TF[i] == True for i in range(len(TF))])):\n",
    "    print True\n",
    "else:\n",
    "    print False\n",
    "\n"
   ]
  },
  {
   "cell_type": "code",
   "execution_count": null,
   "metadata": {
    "collapsed": true
   },
   "outputs": [],
   "source": [
    "TF\n",
    "tf = [False, False, False]\n",
    "TF[0]"
   ]
  },
  {
   "cell_type": "code",
   "execution_count": null,
   "metadata": {
    "collapsed": true
   },
   "outputs": [],
   "source": [
    "print repDs['BRA'][mediods[0]]\n",
    "print repDs['BRA']"
   ]
  },
  {
   "cell_type": "code",
   "execution_count": null,
   "metadata": {
    "collapsed": true
   },
   "outputs": [],
   "source": [
    "if ( any (TF == True) ):\n",
    "    print True"
   ]
  },
  {
   "cell_type": "code",
   "execution_count": null,
   "metadata": {
    "collapsed": true
   },
   "outputs": [],
   "source": [
    "if ( any ( [tf[i] == True for i in range(len(tf))])):\n",
    "    print True\n",
    "else:\n",
    "    print False"
   ]
  },
  {
   "cell_type": "code",
   "execution_count": null,
   "metadata": {
    "collapsed": true
   },
   "outputs": [],
   "source": [
    "TF.index(True)\n",
    "\n",
    "tf = [False, False, False]\n"
   ]
  },
  {
   "cell_type": "code",
   "execution_count": null,
   "metadata": {
    "collapsed": true
   },
   "outputs": [],
   "source": [
    "(tf.index(True) == ValueError)"
   ]
  },
  {
   "cell_type": "code",
   "execution_count": null,
   "metadata": {
    "collapsed": true
   },
   "outputs": [],
   "source": [
    "swapSetDict['BEL']"
   ]
  },
  {
   "cell_type": "code",
   "execution_count": null,
   "metadata": {
    "collapsed": true
   },
   "outputs": [],
   "source": [
    "### consider swapping objects i for h, where i is the set of representative objects (selected objects),\n",
    "## and where h consists of all remaining unselected objects.\n",
    "## determine the result of swapping out i for h on the initial clustering of objects j\n",
    "## j are the remaining unselected objects\n",
    "\n",
    "\n",
    "\n",
    "    rSwapDict = {}; cumConts = {}; mediods = repObj.keys()\n",
    "    for wrd1, vec in distDict.iteritems(): ### objects h\n",
    "        swapRow = {}; cumCont = 0\n",
    "        for wrd2, d in vec.iteritems(): ### objects j\n",
    "            if (not wrd1 in mediods) & (not wrd2 in mediods):\n",
    "                swapSet = {}\n",
    "                for i in range(len(mediods)): ## objects i\n",
    "                    TF = [repDs[wrd2][mediods[i]] >  value for key, value in repDs[wrd2].iteritems()]\n",
    "                    if (TF[i] == True):\n",
    "                    #if (repDs[wrd2][mediods[i]] == max(repDs[wrd2].values()):\n",
    "                        if ( distDict[wrd2][wrd1] < repDs[wrd2].values() ):\n",
    "                            swapSet[mediods[i]] = distDict[wrd2][wrd1] - min(repDs[wrd2].values())\n",
    "                        else:\n",
    "                            swapSet[mediods[i]] = 0\n",
    "                    else:\n",
    "                        if (distDict[wrd2][wrd1] < min(repDs[wrd2].values())):\n",
    "                            swapSet[mediods[i]] = distDict[wrd2][wrd1] - repDs[wrd2][mediods[i]]\n",
    "                        else:\n",
    "                            swapSet[mediods[i]] = min(repDs[wrd2].values()) - repDs[wrd2][mediods[i]]\n",
    "                swapRow[wrd2] = swapSet\n",
    "        if not wrd1 in mediods:\n",
    "             rSwapDict[wrd1] = swapRow\n",
    "\n",
    "                                                \n",
    "            \n",
    "                \n",
    "                #if (repObj[mediods[i]][wrd2] < )\n",
    "                \n",
    "\n",
    "\n",
    "    #if (not wrd1 in mediods):\n",
    "     #   rSwapDict[wrd1] = contRow; cumConts[wrd1] = cumCont\n",
    "\n",
    "\n"
   ]
  },
  {
   "cell_type": "code",
   "execution_count": null,
   "metadata": {
    "collapsed": true
   },
   "outputs": [],
   "source": [
    "def selectObjects(distDict, repObj, k):\n",
    "    r = len(repObj)\n",
    "    while r < k:\n",
    "        contDict = {}; cumConts = {}; mediods = repObj.keys()\n",
    "        for wrd1, vec in distDict.iteritems():\n",
    "            contRow = {}; cumCont = 0\n",
    "            for wrd2, d in vec.iteritems():\n",
    "                if (not wrd1 in mediods) & (not wrd2 in mediods):\n",
    "                    if( r > 1): ## select the 3rd and greater representative objects\n",
    "                        for i in range(1,len(mediods)):\n",
    "                            if (repObj[mediods[i-1]][wrd2] < repObj[mediods[i]][wrd2]):\n",
    "                                store = max(repObj[mediods[i-1]][wrd2] - distDict[wrd2][wrd1], 0)\n",
    "                            else:\n",
    "                                store = max(repObj[mediods[i]][wrd2] - distDict[wrd2][wrd1], 0)          \n",
    "                    else: ## select the 2nd representative object\n",
    "                        store = max(repObj[mediods[0]][wrd2] - distDict[wrd2][wrd1], 0)\n",
    "                    contRow[wrd2] = store; cumCont = cumCont + store\n",
    "            if (not wrd1 in mediods):\n",
    "                contDict[wrd1] = contRow; cumConts[wrd1] = cumCont\n",
    "\n",
    "        #print cumConts        \n",
    "        inverse = [(value, key) for key, value in cumConts.items()]\n",
    "        selected = max(inverse)[1]   \n",
    "        #print (selected, max(inverse)[0])\n",
    "        repObj[selected] = distDict[selected]; \n",
    "        r = r + 1\n",
    "    return repObj\n",
    "\n",
    "\n",
    "\n"
   ]
  },
  {
   "cell_type": "code",
   "execution_count": null,
   "metadata": {
    "collapsed": true
   },
   "outputs": [],
   "source": [
    "mediods = repObj.keys()\n",
    "print mediods"
   ]
  },
  {
   "cell_type": "code",
   "execution_count": null,
   "metadata": {
    "collapsed": true
   },
   "outputs": [],
   "source": [
    "Tf = [repDs['BRA'][mediods[2]] > repDs['BRA'] for value in repDs['BRA'].items()]"
   ]
  },
  {
   "cell_type": "code",
   "execution_count": null,
   "metadata": {
    "collapsed": true
   },
   "outputs": [],
   "source": [
    "## Initialize clustering\n",
    "\n",
    "repObj = {}\n",
    "cumDs = {}\n",
    "for wrd1, vec in distDict.iteritems():\n",
    "    sumDs = 0 \n",
    "    for wrd2, d in vec.iteritems():\n",
    "           sumDs = sumDs + d\n",
    "    cumDs[wrd1] = sumDs        \n",
    " \n",
    "inverse = [(value, key) for key, value in cumDs.items()]\n",
    "selected = min(inverse)[1]\n",
    "repObj[selected] = distDict[selected]\n",
    "print selected"
   ]
  },
  {
   "cell_type": "code",
   "execution_count": null,
   "metadata": {
    "collapsed": true
   },
   "outputs": [],
   "source": [
    "values = [repDs['BRA'] for wrd, value in repDs['BRA'].iteritems()]"
   ]
  },
  {
   "cell_type": "code",
   "execution_count": null,
   "metadata": {
    "collapsed": true
   },
   "outputs": [],
   "source": [
    "repDs['BRA']"
   ]
  },
  {
   "cell_type": "code",
   "execution_count": null,
   "metadata": {
    "collapsed": true
   },
   "outputs": [],
   "source": [
    "repDs['BRA'][mediods[0]]> repDs['BRA']['BEL']"
   ]
  },
  {
   "cell_type": "code",
   "execution_count": null,
   "metadata": {
    "collapsed": true
   },
   "outputs": [],
   "source": [
    "TF = [repDs['BRA'][mediods[0]] > value for key, value in repDs['BRA'].iteritems()]"
   ]
  },
  {
   "cell_type": "code",
   "execution_count": null,
   "metadata": {
    "collapsed": true
   },
   "outputs": [],
   "source": [
    "TF[2] == True"
   ]
  },
  {
   "cell_type": "code",
   "execution_count": null,
   "metadata": {
    "collapsed": true
   },
   "outputs": [],
   "source": [
    "inverse = [(value, key) for key, value in repDs.items()]"
   ]
  },
  {
   "cell_type": "code",
   "execution_count": null,
   "metadata": {
    "collapsed": true
   },
   "outputs": [],
   "source": [
    "repDs['BRA'][mediods[0]] > repDs['BRA'].iteritems()\n",
    "repDs['BRA'][mediods[0]]"
   ]
  },
  {
   "cell_type": "code",
   "execution_count": null,
   "metadata": {
    "collapsed": true
   },
   "outputs": [],
   "source": [
    "repDs['BRA'].values()"
   ]
  },
  {
   "cell_type": "code",
   "execution_count": null,
   "metadata": {
    "collapsed": true
   },
   "outputs": [],
   "source": [
    "repDs['BRA'][mediods[1]] == max(repDs['BRA'].values())"
   ]
  },
  {
   "cell_type": "code",
   "execution_count": null,
   "metadata": {
    "collapsed": true
   },
   "outputs": [],
   "source": [
    "distDict['BRA']['BRA'] < repDs['BRA']"
   ]
  },
  {
   "cell_type": "code",
   "execution_count": null,
   "metadata": {
    "collapsed": true
   },
   "outputs": [],
   "source": []
  }
 ],
 "metadata": {
  "kernelspec": {
   "display_name": "Python 2",
   "language": "python",
   "name": "python2"
  },
  "language_info": {
   "codemirror_mode": {
    "name": "ipython",
    "version": 2
   },
   "file_extension": ".py",
   "mimetype": "text/x-python",
   "name": "python",
   "nbconvert_exporter": "python",
   "pygments_lexer": "ipython2",
   "version": "2.7.11"
  }
 },
 "nbformat": 4,
 "nbformat_minor": 1
}
